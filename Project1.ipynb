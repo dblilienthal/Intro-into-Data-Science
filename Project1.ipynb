{
 "cells": [
  {
   "cell_type": "markdown",
   "metadata": {},
   "source": [
    "# Injuries While Driving in Montgomery County, Maryland"
   ]
  },
  {
   "cell_type": "markdown",
   "metadata": {},
   "source": [
    "###### By Derek Lilienthal and Ritik Sirsikar"
   ]
  },
  {
   "cell_type": "markdown",
   "metadata": {},
   "source": [
    "# Introduction"
   ]
  },
  {
   "cell_type": "markdown",
   "metadata": {},
   "source": [
    "In this project, we explored a real world data set of Montgonery County's crash reports. This dataset consists of only the most recent 1000 reported crashes from the time the dataset was archived. (October 13th, 2020). This data set includes variable like the date/time of incident, speed limit of the road where the crash occured, type of accident reported, injuries reported, weather conditions, etc. With 43 different observations to explore within the dataset, we narrowed our exploration to revolve around the the speed limits on the roads where the accidents occured, the type of injuries inflicted by the crash, the time/days that the accidents occured at, and the days of the week where there are the most reported crashes. \n",
    "\n",
    "Data used in this report comes from https://data.montgomerycountymd.gov/Public-Safety/Crash-Reporting-Drivers-Data/mmzv-x632. This is Montgomery County, Maryland's official website. "
   ]
  },
  {
   "cell_type": "code",
   "execution_count": 1,
   "metadata": {},
   "outputs": [],
   "source": [
    "# Import all the libraries we will be using\n",
    "import numpy as np\n",
    "import pandas as pd\n",
    "import matplotlib.pyplot as plt\n",
    "import seaborn as sns\n",
    "# View the max columns and rows\n",
    "pd.set_option('display.max_rows', None)\n",
    "pd.set_option('display.max_columns', None)\n",
    "pd.set_option('display.width', None)\n",
    "pd.set_option('display.max_colwidth', None)\n",
    "# Make all graphs 20x10\n",
    "plt.rcParams['figure.figsize'] = (20.0, 10.0)\n",
    "# Make all the fonts on the graphs larger\n",
    "plt.rcParams.update({'font.size': 22})\n",
    "# Make all the seaborn graphs grids\n",
    "sns.set_style(\"whitegrid\")"
   ]
  },
  {
   "cell_type": "code",
   "execution_count": 2,
   "metadata": {},
   "outputs": [],
   "source": [
    "# Import our data\n",
    "df = pd.read_csv('https://raw.githubusercontent.com/dblilienthal/CSV_Files/main/data.csv')"
   ]
  },
  {
   "cell_type": "markdown",
   "metadata": {},
   "source": [
    "# Initial Data Exploration"
   ]
  },
  {
   "cell_type": "markdown",
   "metadata": {},
   "source": [
    "Lets look at how large this dataset is."
   ]
  },
  {
   "cell_type": "code",
   "execution_count": 3,
   "metadata": {
    "scrolled": true
   },
   "outputs": [
    {
     "data": {
      "text/plain": [
       "(1000, 43)"
      ]
     },
     "execution_count": 3,
     "metadata": {},
     "output_type": "execute_result"
    }
   ],
   "source": [
    "df.shape"
   ]
  },
  {
   "cell_type": "markdown",
   "metadata": {},
   "source": [
    "1000 rows and 43 columns."
   ]
  },
  {
   "cell_type": "code",
   "execution_count": 4,
   "metadata": {},
   "outputs": [
    {
     "data": {
      "text/html": [
       "<div>\n",
       "<style scoped>\n",
       "    .dataframe tbody tr th:only-of-type {\n",
       "        vertical-align: middle;\n",
       "    }\n",
       "\n",
       "    .dataframe tbody tr th {\n",
       "        vertical-align: top;\n",
       "    }\n",
       "\n",
       "    .dataframe thead th {\n",
       "        text-align: right;\n",
       "    }\n",
       "</style>\n",
       "<table border=\"1\" class=\"dataframe\">\n",
       "  <thead>\n",
       "    <tr style=\"text-align: right;\">\n",
       "      <th></th>\n",
       "      <th>report_number</th>\n",
       "      <th>local_case_number</th>\n",
       "      <th>agency_name</th>\n",
       "      <th>acrs_report_type</th>\n",
       "      <th>crash_date_time</th>\n",
       "      <th>route_type</th>\n",
       "      <th>road_name</th>\n",
       "      <th>cross_street_type</th>\n",
       "      <th>cross_street_name</th>\n",
       "      <th>off_road_description</th>\n",
       "      <th>municipality</th>\n",
       "      <th>related_non_motorist</th>\n",
       "      <th>collision_type</th>\n",
       "      <th>weather</th>\n",
       "      <th>surface_condition</th>\n",
       "      <th>light</th>\n",
       "      <th>traffic_control</th>\n",
       "      <th>driver_substance_abuse</th>\n",
       "      <th>non_motorist_substance_abuse</th>\n",
       "      <th>person_id</th>\n",
       "      <th>driver_at_fault</th>\n",
       "      <th>injury_severity</th>\n",
       "      <th>circumstance</th>\n",
       "      <th>driver_distracted_by</th>\n",
       "      <th>drivers_license_state</th>\n",
       "      <th>vehicle_id</th>\n",
       "      <th>vehicle_damage_extent</th>\n",
       "      <th>vehicle_first_impact_location</th>\n",
       "      <th>vehicle_second_impact_location</th>\n",
       "      <th>vehicle_body_type</th>\n",
       "      <th>vehicle_movement</th>\n",
       "      <th>vehicle_continuing_dir</th>\n",
       "      <th>vehicle_going_dir</th>\n",
       "      <th>speed_limit</th>\n",
       "      <th>driverless_vehicle</th>\n",
       "      <th>parked_vehicle</th>\n",
       "      <th>vehicle_year</th>\n",
       "      <th>vehicle_make</th>\n",
       "      <th>vehicle_model</th>\n",
       "      <th>equipment_problems</th>\n",
       "      <th>latitude</th>\n",
       "      <th>longitude</th>\n",
       "      <th>geolocation</th>\n",
       "    </tr>\n",
       "  </thead>\n",
       "  <tbody>\n",
       "    <tr>\n",
       "      <th>0</th>\n",
       "      <td>DD56150097</td>\n",
       "      <td>200039625</td>\n",
       "      <td>Rockville Police Departme</td>\n",
       "      <td>Property Damage Crash</td>\n",
       "      <td>2020-10-08T12:51:00.000</td>\n",
       "      <td>Maryland (State)</td>\n",
       "      <td>HUNGERFORD DR</td>\n",
       "      <td>Municipality</td>\n",
       "      <td>FREDERICK AVE #2</td>\n",
       "      <td>NaN</td>\n",
       "      <td>ROCKVILLE</td>\n",
       "      <td>NaN</td>\n",
       "      <td>SAME DIR REAR END</td>\n",
       "      <td>CLEAR</td>\n",
       "      <td>DRY</td>\n",
       "      <td>DAYLIGHT</td>\n",
       "      <td>NO CONTROLS</td>\n",
       "      <td>NONE DETECTED</td>\n",
       "      <td>NaN</td>\n",
       "      <td>F6D9BCA5-9AE9-490A-A9AF-00DC3ECB437B</td>\n",
       "      <td>No</td>\n",
       "      <td>NO APPARENT INJURY</td>\n",
       "      <td>NaN</td>\n",
       "      <td>NOT DISTRACTED</td>\n",
       "      <td>MD</td>\n",
       "      <td>09BD170E-B134-49E2-BC57-F1CF6C5C7CEC</td>\n",
       "      <td>DISABLING</td>\n",
       "      <td>SIX OCLOCK</td>\n",
       "      <td>UNDERSIDE</td>\n",
       "      <td>MOTORCYCLE</td>\n",
       "      <td>SLOWING OR STOPPING</td>\n",
       "      <td>North</td>\n",
       "      <td>North</td>\n",
       "      <td>35</td>\n",
       "      <td>No</td>\n",
       "      <td>No</td>\n",
       "      <td>2017</td>\n",
       "      <td>YAMAHA</td>\n",
       "      <td>BOLT</td>\n",
       "      <td>NO MISUSE</td>\n",
       "      <td>39.092261</td>\n",
       "      <td>-77.153044</td>\n",
       "      <td>\\n,  \\n(39.09226138, -77.15304406)</td>\n",
       "    </tr>\n",
       "    <tr>\n",
       "      <th>1</th>\n",
       "      <td>DD56150097</td>\n",
       "      <td>200039625</td>\n",
       "      <td>Rockville Police Departme</td>\n",
       "      <td>Property Damage Crash</td>\n",
       "      <td>2020-10-08T12:51:00.000</td>\n",
       "      <td>Maryland (State)</td>\n",
       "      <td>HUNGERFORD DR</td>\n",
       "      <td>Municipality</td>\n",
       "      <td>FREDERICK AVE #2</td>\n",
       "      <td>NaN</td>\n",
       "      <td>ROCKVILLE</td>\n",
       "      <td>NaN</td>\n",
       "      <td>SAME DIR REAR END</td>\n",
       "      <td>CLEAR</td>\n",
       "      <td>DRY</td>\n",
       "      <td>DAYLIGHT</td>\n",
       "      <td>NO CONTROLS</td>\n",
       "      <td>NONE DETECTED</td>\n",
       "      <td>NaN</td>\n",
       "      <td>BC5CB81E-E0CC-4444-9003-DAEF8D5085DB</td>\n",
       "      <td>Yes</td>\n",
       "      <td>NO APPARENT INJURY</td>\n",
       "      <td>NaN</td>\n",
       "      <td>LOOKED BUT DID NOT SEE</td>\n",
       "      <td>MD</td>\n",
       "      <td>2E1A66DE-8EBA-4462-8BF3-9591E43438F8</td>\n",
       "      <td>DISABLING</td>\n",
       "      <td>TWO OCLOCK</td>\n",
       "      <td>TWELVE OCLOCK</td>\n",
       "      <td>MOTORCYCLE</td>\n",
       "      <td>MOVING CONSTANT SPEED</td>\n",
       "      <td>North</td>\n",
       "      <td>North</td>\n",
       "      <td>35</td>\n",
       "      <td>No</td>\n",
       "      <td>No</td>\n",
       "      <td>2018</td>\n",
       "      <td>HONDA</td>\n",
       "      <td>CP650F</td>\n",
       "      <td>NaN</td>\n",
       "      <td>39.092261</td>\n",
       "      <td>-77.153044</td>\n",
       "      <td>\\n,  \\n(39.09226138, -77.15304406)</td>\n",
       "    </tr>\n",
       "    <tr>\n",
       "      <th>2</th>\n",
       "      <td>MCP158000D9</td>\n",
       "      <td>200039599</td>\n",
       "      <td>Montgomery County Police</td>\n",
       "      <td>Injury Crash</td>\n",
       "      <td>2020-10-08T07:35:00.000</td>\n",
       "      <td>Maryland (State)</td>\n",
       "      <td>CLOPPER RD</td>\n",
       "      <td>Municipality</td>\n",
       "      <td>PHEASANT RUN DR</td>\n",
       "      <td>NaN</td>\n",
       "      <td>GAITHERSBURG</td>\n",
       "      <td>NaN</td>\n",
       "      <td>STRAIGHT MOVEMENT ANGLE</td>\n",
       "      <td>CLEAR</td>\n",
       "      <td>DRY</td>\n",
       "      <td>DAYLIGHT</td>\n",
       "      <td>TRAFFIC SIGNAL</td>\n",
       "      <td>NONE DETECTED</td>\n",
       "      <td>NaN</td>\n",
       "      <td>19AE937B-4239-4B6F-AD8A-6CBCCDE554FC</td>\n",
       "      <td>No</td>\n",
       "      <td>POSSIBLE INJURY</td>\n",
       "      <td>N/A, VISION OBSTRUCTION (INCL. BLINDED BY SUN)</td>\n",
       "      <td>NOT DISTRACTED</td>\n",
       "      <td>MD</td>\n",
       "      <td>68F17606-97AA-4FC5-939B-9E01373208E0</td>\n",
       "      <td>DISABLING</td>\n",
       "      <td>THREE OCLOCK</td>\n",
       "      <td>THREE OCLOCK</td>\n",
       "      <td>(SPORT) UTILITY VEHICLE</td>\n",
       "      <td>MOVING CONSTANT SPEED</td>\n",
       "      <td>South</td>\n",
       "      <td>South</td>\n",
       "      <td>40</td>\n",
       "      <td>No</td>\n",
       "      <td>No</td>\n",
       "      <td>2013</td>\n",
       "      <td>TOYT</td>\n",
       "      <td>RAV4</td>\n",
       "      <td>NO MISUSE</td>\n",
       "      <td>39.147255</td>\n",
       "      <td>-77.232997</td>\n",
       "      <td>\\n,  \\n(39.147255, -77.23299667)</td>\n",
       "    </tr>\n",
       "    <tr>\n",
       "      <th>3</th>\n",
       "      <td>MCP158000D9</td>\n",
       "      <td>200039599</td>\n",
       "      <td>Montgomery County Police</td>\n",
       "      <td>Injury Crash</td>\n",
       "      <td>2020-10-08T07:35:00.000</td>\n",
       "      <td>Maryland (State)</td>\n",
       "      <td>CLOPPER RD</td>\n",
       "      <td>Municipality</td>\n",
       "      <td>PHEASANT RUN DR</td>\n",
       "      <td>NaN</td>\n",
       "      <td>GAITHERSBURG</td>\n",
       "      <td>NaN</td>\n",
       "      <td>STRAIGHT MOVEMENT ANGLE</td>\n",
       "      <td>CLEAR</td>\n",
       "      <td>DRY</td>\n",
       "      <td>DAYLIGHT</td>\n",
       "      <td>TRAFFIC SIGNAL</td>\n",
       "      <td>NONE DETECTED</td>\n",
       "      <td>NaN</td>\n",
       "      <td>29D79F16-A6A8-4D0E-BEF1-EAC5BCB05E1B</td>\n",
       "      <td>Yes</td>\n",
       "      <td>NO APPARENT INJURY</td>\n",
       "      <td>N/A, VISION OBSTRUCTION (INCL. BLINDED BY SUN)</td>\n",
       "      <td>UNKNOWN</td>\n",
       "      <td>MD</td>\n",
       "      <td>99622570-CFEB-4AD9-A526-ECA6CCF8A6E2</td>\n",
       "      <td>DISABLING</td>\n",
       "      <td>TWELVE OCLOCK</td>\n",
       "      <td>TWELVE OCLOCK</td>\n",
       "      <td>(SPORT) UTILITY VEHICLE</td>\n",
       "      <td>MOVING CONSTANT SPEED</td>\n",
       "      <td>East</td>\n",
       "      <td>East</td>\n",
       "      <td>40</td>\n",
       "      <td>No</td>\n",
       "      <td>No</td>\n",
       "      <td>2019</td>\n",
       "      <td>KIA</td>\n",
       "      <td>SORENTO</td>\n",
       "      <td>NO MISUSE</td>\n",
       "      <td>39.147255</td>\n",
       "      <td>-77.232997</td>\n",
       "      <td>\\n,  \\n(39.147255, -77.23299667)</td>\n",
       "    </tr>\n",
       "    <tr>\n",
       "      <th>4</th>\n",
       "      <td>MCP3071001R</td>\n",
       "      <td>200039581</td>\n",
       "      <td>Montgomery County Police</td>\n",
       "      <td>Property Damage Crash</td>\n",
       "      <td>2020-10-07T23:51:00.000</td>\n",
       "      <td>County</td>\n",
       "      <td>SCENERY DR</td>\n",
       "      <td>County</td>\n",
       "      <td>BRANDERMILL DR</td>\n",
       "      <td>NaN</td>\n",
       "      <td>NaN</td>\n",
       "      <td>NaN</td>\n",
       "      <td>OTHER</td>\n",
       "      <td>CLEAR</td>\n",
       "      <td>DRY</td>\n",
       "      <td>DARK LIGHTS ON</td>\n",
       "      <td>NaN</td>\n",
       "      <td>ALCOHOL PRESENT</td>\n",
       "      <td>NaN</td>\n",
       "      <td>445FC6AB-9FD2-4C61-BD24-E07EF739960C</td>\n",
       "      <td>Yes</td>\n",
       "      <td>NO APPARENT INJURY</td>\n",
       "      <td>NaN</td>\n",
       "      <td>OTHER DISTRACTION</td>\n",
       "      <td>MD</td>\n",
       "      <td>9057EFF9-0935-4167-BDB5-9EDC8E820550</td>\n",
       "      <td>DISABLING</td>\n",
       "      <td>TWELVE OCLOCK</td>\n",
       "      <td>TWELVE OCLOCK</td>\n",
       "      <td>PASSENGER CAR</td>\n",
       "      <td>MOVING CONSTANT SPEED</td>\n",
       "      <td>East</td>\n",
       "      <td>East</td>\n",
       "      <td>30</td>\n",
       "      <td>No</td>\n",
       "      <td>No</td>\n",
       "      <td>2014</td>\n",
       "      <td>HYUN</td>\n",
       "      <td>4S</td>\n",
       "      <td>NO MISUSE</td>\n",
       "      <td>39.191533</td>\n",
       "      <td>-77.233590</td>\n",
       "      <td>\\n,  \\n(39.19153333, -77.23359)</td>\n",
       "    </tr>\n",
       "  </tbody>\n",
       "</table>\n",
       "</div>"
      ],
      "text/plain": [
       "  report_number  local_case_number                agency_name  \\\n",
       "0    DD56150097          200039625  Rockville Police Departme   \n",
       "1    DD56150097          200039625  Rockville Police Departme   \n",
       "2   MCP158000D9          200039599   Montgomery County Police   \n",
       "3   MCP158000D9          200039599   Montgomery County Police   \n",
       "4   MCP3071001R          200039581   Montgomery County Police   \n",
       "\n",
       "        acrs_report_type          crash_date_time        route_type  \\\n",
       "0  Property Damage Crash  2020-10-08T12:51:00.000  Maryland (State)   \n",
       "1  Property Damage Crash  2020-10-08T12:51:00.000  Maryland (State)   \n",
       "2           Injury Crash  2020-10-08T07:35:00.000  Maryland (State)   \n",
       "3           Injury Crash  2020-10-08T07:35:00.000  Maryland (State)   \n",
       "4  Property Damage Crash  2020-10-07T23:51:00.000            County   \n",
       "\n",
       "       road_name cross_street_type cross_street_name off_road_description  \\\n",
       "0  HUNGERFORD DR      Municipality  FREDERICK AVE #2                  NaN   \n",
       "1  HUNGERFORD DR      Municipality  FREDERICK AVE #2                  NaN   \n",
       "2     CLOPPER RD      Municipality   PHEASANT RUN DR                  NaN   \n",
       "3     CLOPPER RD      Municipality   PHEASANT RUN DR                  NaN   \n",
       "4     SCENERY DR            County    BRANDERMILL DR                  NaN   \n",
       "\n",
       "   municipality related_non_motorist           collision_type weather  \\\n",
       "0     ROCKVILLE                  NaN        SAME DIR REAR END   CLEAR   \n",
       "1     ROCKVILLE                  NaN        SAME DIR REAR END   CLEAR   \n",
       "2  GAITHERSBURG                  NaN  STRAIGHT MOVEMENT ANGLE   CLEAR   \n",
       "3  GAITHERSBURG                  NaN  STRAIGHT MOVEMENT ANGLE   CLEAR   \n",
       "4           NaN                  NaN                    OTHER   CLEAR   \n",
       "\n",
       "  surface_condition           light traffic_control driver_substance_abuse  \\\n",
       "0               DRY        DAYLIGHT     NO CONTROLS          NONE DETECTED   \n",
       "1               DRY        DAYLIGHT     NO CONTROLS          NONE DETECTED   \n",
       "2               DRY        DAYLIGHT  TRAFFIC SIGNAL          NONE DETECTED   \n",
       "3               DRY        DAYLIGHT  TRAFFIC SIGNAL          NONE DETECTED   \n",
       "4               DRY  DARK LIGHTS ON             NaN        ALCOHOL PRESENT   \n",
       "\n",
       "  non_motorist_substance_abuse                             person_id  \\\n",
       "0                          NaN  F6D9BCA5-9AE9-490A-A9AF-00DC3ECB437B   \n",
       "1                          NaN  BC5CB81E-E0CC-4444-9003-DAEF8D5085DB   \n",
       "2                          NaN  19AE937B-4239-4B6F-AD8A-6CBCCDE554FC   \n",
       "3                          NaN  29D79F16-A6A8-4D0E-BEF1-EAC5BCB05E1B   \n",
       "4                          NaN  445FC6AB-9FD2-4C61-BD24-E07EF739960C   \n",
       "\n",
       "  driver_at_fault     injury_severity  \\\n",
       "0              No  NO APPARENT INJURY   \n",
       "1             Yes  NO APPARENT INJURY   \n",
       "2              No     POSSIBLE INJURY   \n",
       "3             Yes  NO APPARENT INJURY   \n",
       "4             Yes  NO APPARENT INJURY   \n",
       "\n",
       "                                     circumstance    driver_distracted_by  \\\n",
       "0                                             NaN          NOT DISTRACTED   \n",
       "1                                             NaN  LOOKED BUT DID NOT SEE   \n",
       "2  N/A, VISION OBSTRUCTION (INCL. BLINDED BY SUN)          NOT DISTRACTED   \n",
       "3  N/A, VISION OBSTRUCTION (INCL. BLINDED BY SUN)                 UNKNOWN   \n",
       "4                                             NaN       OTHER DISTRACTION   \n",
       "\n",
       "  drivers_license_state                            vehicle_id  \\\n",
       "0                    MD  09BD170E-B134-49E2-BC57-F1CF6C5C7CEC   \n",
       "1                    MD  2E1A66DE-8EBA-4462-8BF3-9591E43438F8   \n",
       "2                    MD  68F17606-97AA-4FC5-939B-9E01373208E0   \n",
       "3                    MD  99622570-CFEB-4AD9-A526-ECA6CCF8A6E2   \n",
       "4                    MD  9057EFF9-0935-4167-BDB5-9EDC8E820550   \n",
       "\n",
       "  vehicle_damage_extent vehicle_first_impact_location  \\\n",
       "0             DISABLING                    SIX OCLOCK   \n",
       "1             DISABLING                    TWO OCLOCK   \n",
       "2             DISABLING                  THREE OCLOCK   \n",
       "3             DISABLING                 TWELVE OCLOCK   \n",
       "4             DISABLING                 TWELVE OCLOCK   \n",
       "\n",
       "  vehicle_second_impact_location        vehicle_body_type  \\\n",
       "0                      UNDERSIDE               MOTORCYCLE   \n",
       "1                  TWELVE OCLOCK               MOTORCYCLE   \n",
       "2                   THREE OCLOCK  (SPORT) UTILITY VEHICLE   \n",
       "3                  TWELVE OCLOCK  (SPORT) UTILITY VEHICLE   \n",
       "4                  TWELVE OCLOCK            PASSENGER CAR   \n",
       "\n",
       "        vehicle_movement vehicle_continuing_dir vehicle_going_dir  \\\n",
       "0    SLOWING OR STOPPING                  North             North   \n",
       "1  MOVING CONSTANT SPEED                  North             North   \n",
       "2  MOVING CONSTANT SPEED                  South             South   \n",
       "3  MOVING CONSTANT SPEED                   East              East   \n",
       "4  MOVING CONSTANT SPEED                   East              East   \n",
       "\n",
       "   speed_limit driverless_vehicle parked_vehicle  vehicle_year vehicle_make  \\\n",
       "0           35                 No             No          2017       YAMAHA   \n",
       "1           35                 No             No          2018        HONDA   \n",
       "2           40                 No             No          2013         TOYT   \n",
       "3           40                 No             No          2019          KIA   \n",
       "4           30                 No             No          2014         HYUN   \n",
       "\n",
       "  vehicle_model equipment_problems   latitude  longitude  \\\n",
       "0          BOLT          NO MISUSE  39.092261 -77.153044   \n",
       "1        CP650F                NaN  39.092261 -77.153044   \n",
       "2          RAV4          NO MISUSE  39.147255 -77.232997   \n",
       "3       SORENTO          NO MISUSE  39.147255 -77.232997   \n",
       "4            4S          NO MISUSE  39.191533 -77.233590   \n",
       "\n",
       "                          geolocation  \n",
       "0  \\n,  \\n(39.09226138, -77.15304406)  \n",
       "1  \\n,  \\n(39.09226138, -77.15304406)  \n",
       "2    \\n,  \\n(39.147255, -77.23299667)  \n",
       "3    \\n,  \\n(39.147255, -77.23299667)  \n",
       "4     \\n,  \\n(39.19153333, -77.23359)  "
      ]
     },
     "execution_count": 4,
     "metadata": {},
     "output_type": "execute_result"
    }
   ],
   "source": [
    "# Take a look at some of the data in the dataframe\n",
    "df.head()"
   ]
  },
  {
   "cell_type": "code",
   "execution_count": 5,
   "metadata": {},
   "outputs": [
    {
     "data": {
      "text/html": [
       "<div>\n",
       "<style scoped>\n",
       "    .dataframe tbody tr th:only-of-type {\n",
       "        vertical-align: middle;\n",
       "    }\n",
       "\n",
       "    .dataframe tbody tr th {\n",
       "        vertical-align: top;\n",
       "    }\n",
       "\n",
       "    .dataframe thead th {\n",
       "        text-align: right;\n",
       "    }\n",
       "</style>\n",
       "<table border=\"1\" class=\"dataframe\">\n",
       "  <thead>\n",
       "    <tr style=\"text-align: right;\">\n",
       "      <th></th>\n",
       "      <th>local_case_number</th>\n",
       "      <th>speed_limit</th>\n",
       "      <th>vehicle_year</th>\n",
       "      <th>latitude</th>\n",
       "      <th>longitude</th>\n",
       "    </tr>\n",
       "  </thead>\n",
       "  <tbody>\n",
       "    <tr>\n",
       "      <th>count</th>\n",
       "      <td>1.000000e+03</td>\n",
       "      <td>1000.00</td>\n",
       "      <td>1000.00</td>\n",
       "      <td>1000.00</td>\n",
       "      <td>1000.00</td>\n",
       "    </tr>\n",
       "    <tr>\n",
       "      <th>mean</th>\n",
       "      <td>1.966167e+08</td>\n",
       "      <td>32.47</td>\n",
       "      <td>1959.04</td>\n",
       "      <td>39.09</td>\n",
       "      <td>-77.12</td>\n",
       "    </tr>\n",
       "    <tr>\n",
       "      <th>std</th>\n",
       "      <td>2.459026e+07</td>\n",
       "      <td>11.22</td>\n",
       "      <td>320.31</td>\n",
       "      <td>0.07</td>\n",
       "      <td>0.10</td>\n",
       "    </tr>\n",
       "    <tr>\n",
       "      <th>min</th>\n",
       "      <td>2.000218e+07</td>\n",
       "      <td>0.00</td>\n",
       "      <td>0.00</td>\n",
       "      <td>38.80</td>\n",
       "      <td>-77.47</td>\n",
       "    </tr>\n",
       "    <tr>\n",
       "      <th>25%</th>\n",
       "      <td>2.000361e+08</td>\n",
       "      <td>30.00</td>\n",
       "      <td>2007.00</td>\n",
       "      <td>39.04</td>\n",
       "      <td>-77.20</td>\n",
       "    </tr>\n",
       "    <tr>\n",
       "      <th>50%</th>\n",
       "      <td>2.000372e+08</td>\n",
       "      <td>35.00</td>\n",
       "      <td>2013.00</td>\n",
       "      <td>39.08</td>\n",
       "      <td>-77.12</td>\n",
       "    </tr>\n",
       "    <tr>\n",
       "      <th>75%</th>\n",
       "      <td>2.000382e+08</td>\n",
       "      <td>40.00</td>\n",
       "      <td>2016.00</td>\n",
       "      <td>39.14</td>\n",
       "      <td>-77.04</td>\n",
       "    </tr>\n",
       "    <tr>\n",
       "      <th>max</th>\n",
       "      <td>2.000396e+08</td>\n",
       "      <td>60.00</td>\n",
       "      <td>2021.00</td>\n",
       "      <td>39.32</td>\n",
       "      <td>-76.93</td>\n",
       "    </tr>\n",
       "  </tbody>\n",
       "</table>\n",
       "</div>"
      ],
      "text/plain": [
       "       local_case_number  speed_limit  vehicle_year  latitude  longitude\n",
       "count       1.000000e+03      1000.00       1000.00   1000.00    1000.00\n",
       "mean        1.966167e+08        32.47       1959.04     39.09     -77.12\n",
       "std         2.459026e+07        11.22        320.31      0.07       0.10\n",
       "min         2.000218e+07         0.00          0.00     38.80     -77.47\n",
       "25%         2.000361e+08        30.00       2007.00     39.04     -77.20\n",
       "50%         2.000372e+08        35.00       2013.00     39.08     -77.12\n",
       "75%         2.000382e+08        40.00       2016.00     39.14     -77.04\n",
       "max         2.000396e+08        60.00       2021.00     39.32     -76.93"
      ]
     },
     "execution_count": 5,
     "metadata": {},
     "output_type": "execute_result"
    }
   ],
   "source": [
    "df.describe().round(decimals=2)"
   ]
  },
  {
   "cell_type": "markdown",
   "metadata": {},
   "source": [
    "###### Take a look at the dataset as whole"
   ]
  },
  {
   "cell_type": "code",
   "execution_count": 6,
   "metadata": {},
   "outputs": [
    {
     "name": "stdout",
     "output_type": "stream",
     "text": [
      "<class 'pandas.core.frame.DataFrame'>\n",
      "RangeIndex: 1000 entries, 0 to 999\n",
      "Data columns (total 43 columns):\n",
      " #   Column                          Non-Null Count  Dtype  \n",
      "---  ------                          --------------  -----  \n",
      " 0   report_number                   1000 non-null   object \n",
      " 1   local_case_number               1000 non-null   int64  \n",
      " 2   agency_name                     1000 non-null   object \n",
      " 3   acrs_report_type                1000 non-null   object \n",
      " 4   crash_date_time                 1000 non-null   object \n",
      " 5   route_type                      903 non-null    object \n",
      " 6   road_name                       906 non-null    object \n",
      " 7   cross_street_type               903 non-null    object \n",
      " 8   cross_street_name               906 non-null    object \n",
      " 9   off_road_description            94 non-null     object \n",
      " 10  municipality                    130 non-null    object \n",
      " 11  related_non_motorist            47 non-null     object \n",
      " 12  collision_type                  997 non-null    object \n",
      " 13  weather                         921 non-null    object \n",
      " 14  surface_condition               880 non-null    object \n",
      " 15  light                           991 non-null    object \n",
      " 16  traffic_control                 852 non-null    object \n",
      " 17  driver_substance_abuse          874 non-null    object \n",
      " 18  non_motorist_substance_abuse    35 non-null     object \n",
      " 19  person_id                       1000 non-null   object \n",
      " 20  driver_at_fault                 1000 non-null   object \n",
      " 21  injury_severity                 1000 non-null   object \n",
      " 22  circumstance                    160 non-null    object \n",
      " 23  driver_distracted_by            1000 non-null   object \n",
      " 24  drivers_license_state           935 non-null    object \n",
      " 25  vehicle_id                      1000 non-null   object \n",
      " 26  vehicle_damage_extent           998 non-null    object \n",
      " 27  vehicle_first_impact_location   1000 non-null   object \n",
      " 28  vehicle_second_impact_location  1000 non-null   object \n",
      " 29  vehicle_body_type               980 non-null    object \n",
      " 30  vehicle_movement                998 non-null    object \n",
      " 31  vehicle_continuing_dir          985 non-null    object \n",
      " 32  vehicle_going_dir               985 non-null    object \n",
      " 33  speed_limit                     1000 non-null   int64  \n",
      " 34  driverless_vehicle              1000 non-null   object \n",
      " 35  parked_vehicle                  1000 non-null   object \n",
      " 36  vehicle_year                    1000 non-null   int64  \n",
      " 37  vehicle_make                    1000 non-null   object \n",
      " 38  vehicle_model                   1000 non-null   object \n",
      " 39  equipment_problems              823 non-null    object \n",
      " 40  latitude                        1000 non-null   float64\n",
      " 41  longitude                       1000 non-null   float64\n",
      " 42  geolocation                     1000 non-null   object \n",
      "dtypes: float64(2), int64(3), object(38)\n",
      "memory usage: 336.1+ KB\n"
     ]
    }
   ],
   "source": [
    "df.info()"
   ]
  },
  {
   "cell_type": "markdown",
   "metadata": {},
   "source": [
    "### Lets convert the datatypes from objects into strings, integers, or floats"
   ]
  },
  {
   "cell_type": "code",
   "execution_count": 7,
   "metadata": {},
   "outputs": [],
   "source": [
    "df = df.convert_dtypes()"
   ]
  },
  {
   "cell_type": "markdown",
   "metadata": {},
   "source": [
    "##### Lets make sure the conversion worked"
   ]
  },
  {
   "cell_type": "code",
   "execution_count": 8,
   "metadata": {},
   "outputs": [
    {
     "name": "stdout",
     "output_type": "stream",
     "text": [
      "<class 'pandas.core.frame.DataFrame'>\n",
      "RangeIndex: 1000 entries, 0 to 999\n",
      "Data columns (total 43 columns):\n",
      " #   Column                          Non-Null Count  Dtype  \n",
      "---  ------                          --------------  -----  \n",
      " 0   report_number                   1000 non-null   string \n",
      " 1   local_case_number               1000 non-null   Int64  \n",
      " 2   agency_name                     1000 non-null   string \n",
      " 3   acrs_report_type                1000 non-null   string \n",
      " 4   crash_date_time                 1000 non-null   string \n",
      " 5   route_type                      903 non-null    string \n",
      " 6   road_name                       906 non-null    string \n",
      " 7   cross_street_type               903 non-null    string \n",
      " 8   cross_street_name               906 non-null    string \n",
      " 9   off_road_description            94 non-null     string \n",
      " 10  municipality                    130 non-null    string \n",
      " 11  related_non_motorist            47 non-null     string \n",
      " 12  collision_type                  997 non-null    string \n",
      " 13  weather                         921 non-null    string \n",
      " 14  surface_condition               880 non-null    string \n",
      " 15  light                           991 non-null    string \n",
      " 16  traffic_control                 852 non-null    string \n",
      " 17  driver_substance_abuse          874 non-null    string \n",
      " 18  non_motorist_substance_abuse    35 non-null     string \n",
      " 19  person_id                       1000 non-null   string \n",
      " 20  driver_at_fault                 1000 non-null   string \n",
      " 21  injury_severity                 1000 non-null   string \n",
      " 22  circumstance                    160 non-null    string \n",
      " 23  driver_distracted_by            1000 non-null   string \n",
      " 24  drivers_license_state           935 non-null    string \n",
      " 25  vehicle_id                      1000 non-null   string \n",
      " 26  vehicle_damage_extent           998 non-null    string \n",
      " 27  vehicle_first_impact_location   1000 non-null   string \n",
      " 28  vehicle_second_impact_location  1000 non-null   string \n",
      " 29  vehicle_body_type               980 non-null    string \n",
      " 30  vehicle_movement                998 non-null    string \n",
      " 31  vehicle_continuing_dir          985 non-null    string \n",
      " 32  vehicle_going_dir               985 non-null    string \n",
      " 33  speed_limit                     1000 non-null   Int64  \n",
      " 34  driverless_vehicle              1000 non-null   string \n",
      " 35  parked_vehicle                  1000 non-null   string \n",
      " 36  vehicle_year                    1000 non-null   Int64  \n",
      " 37  vehicle_make                    1000 non-null   string \n",
      " 38  vehicle_model                   1000 non-null   string \n",
      " 39  equipment_problems              823 non-null    string \n",
      " 40  latitude                        1000 non-null   float64\n",
      " 41  longitude                       1000 non-null   float64\n",
      " 42  geolocation                     1000 non-null   string \n",
      "dtypes: Int64(3), float64(2), string(38)\n",
      "memory usage: 339.0 KB\n"
     ]
    }
   ],
   "source": [
    "df.info()"
   ]
  },
  {
   "cell_type": "markdown",
   "metadata": {},
   "source": [
    "Now that we've explored the dataset and have an understanding of the variables we have, lets start cleaning the dataset from null and bad values"
   ]
  },
  {
   "cell_type": "markdown",
   "metadata": {},
   "source": [
    "# Data Cleaning and Preprocessing"
   ]
  },
  {
   "cell_type": "markdown",
   "metadata": {},
   "source": [
    "In order for us to explore accidents based on date and time, we need to format the 'crash_date_time' column into a sperate columns for time of accident, the hour of the accident, date, and day of the week."
   ]
  },
  {
   "cell_type": "code",
   "execution_count": 9,
   "metadata": {},
   "outputs": [],
   "source": [
    "#2020-10-08T12:51:00.000\n",
    "def date_fix(d):\n",
    "    date = d[:10]\n",
    "    return date\n",
    "\n",
    "def time_fix(t):\n",
    "    time = t[11:19]\n",
    "    return time\n",
    "\n",
    "# Add the crash time and date to the dataset\n",
    "df['crash_time'] = df['crash_date_time'].apply(time_fix)\n",
    "df['crash_date'] = df['crash_date_time'].apply(date_fix)\n",
    "del df['crash_date_time']\n",
    "\n",
    "# Add in the day of the week\n",
    "def add_day_of_week(d):\n",
    "  d = str(d)\n",
    "  day = pd.Timestamp(d).day_name()\n",
    "  return day;\n",
    "\n",
    "# Add day of the week to the dataset\n",
    "df['day_of_week'] = df['crash_date'].apply(add_day_of_week)\n",
    "\n",
    "def hour_of_accident(t):\n",
    "  hour = t[:2]\n",
    "  return int(hour)\n",
    "\n",
    "# Add the hour the accident happened to the dataset\n",
    "df['hour_of_accident'] = df['crash_time'].apply(hour_of_accident)"
   ]
  },
  {
   "cell_type": "markdown",
   "metadata": {},
   "source": [
    "Now that we've modified the dataframe, lets take a look at the new columns we added"
   ]
  },
  {
   "cell_type": "code",
   "execution_count": 10,
   "metadata": {
    "scrolled": true
   },
   "outputs": [
    {
     "data": {
      "text/html": [
       "<div>\n",
       "<style scoped>\n",
       "    .dataframe tbody tr th:only-of-type {\n",
       "        vertical-align: middle;\n",
       "    }\n",
       "\n",
       "    .dataframe tbody tr th {\n",
       "        vertical-align: top;\n",
       "    }\n",
       "\n",
       "    .dataframe thead th {\n",
       "        text-align: right;\n",
       "    }\n",
       "</style>\n",
       "<table border=\"1\" class=\"dataframe\">\n",
       "  <thead>\n",
       "    <tr style=\"text-align: right;\">\n",
       "      <th></th>\n",
       "      <th>crash_time</th>\n",
       "      <th>crash_date</th>\n",
       "      <th>day_of_week</th>\n",
       "      <th>hour_of_accident</th>\n",
       "    </tr>\n",
       "  </thead>\n",
       "  <tbody>\n",
       "    <tr>\n",
       "      <th>0</th>\n",
       "      <td>12:51:00</td>\n",
       "      <td>2020-10-08</td>\n",
       "      <td>Thursday</td>\n",
       "      <td>12</td>\n",
       "    </tr>\n",
       "    <tr>\n",
       "      <th>1</th>\n",
       "      <td>12:51:00</td>\n",
       "      <td>2020-10-08</td>\n",
       "      <td>Thursday</td>\n",
       "      <td>12</td>\n",
       "    </tr>\n",
       "    <tr>\n",
       "      <th>2</th>\n",
       "      <td>07:35:00</td>\n",
       "      <td>2020-10-08</td>\n",
       "      <td>Thursday</td>\n",
       "      <td>7</td>\n",
       "    </tr>\n",
       "    <tr>\n",
       "      <th>3</th>\n",
       "      <td>07:35:00</td>\n",
       "      <td>2020-10-08</td>\n",
       "      <td>Thursday</td>\n",
       "      <td>7</td>\n",
       "    </tr>\n",
       "    <tr>\n",
       "      <th>4</th>\n",
       "      <td>23:51:00</td>\n",
       "      <td>2020-10-07</td>\n",
       "      <td>Wednesday</td>\n",
       "      <td>23</td>\n",
       "    </tr>\n",
       "    <tr>\n",
       "      <th>5</th>\n",
       "      <td>20:20:00</td>\n",
       "      <td>2020-10-07</td>\n",
       "      <td>Wednesday</td>\n",
       "      <td>20</td>\n",
       "    </tr>\n",
       "    <tr>\n",
       "      <th>6</th>\n",
       "      <td>17:16:00</td>\n",
       "      <td>2020-10-07</td>\n",
       "      <td>Wednesday</td>\n",
       "      <td>17</td>\n",
       "    </tr>\n",
       "    <tr>\n",
       "      <th>7</th>\n",
       "      <td>17:16:00</td>\n",
       "      <td>2020-10-07</td>\n",
       "      <td>Wednesday</td>\n",
       "      <td>17</td>\n",
       "    </tr>\n",
       "    <tr>\n",
       "      <th>8</th>\n",
       "      <td>12:34:00</td>\n",
       "      <td>2020-10-07</td>\n",
       "      <td>Wednesday</td>\n",
       "      <td>12</td>\n",
       "    </tr>\n",
       "    <tr>\n",
       "      <th>9</th>\n",
       "      <td>12:34:00</td>\n",
       "      <td>2020-10-07</td>\n",
       "      <td>Wednesday</td>\n",
       "      <td>12</td>\n",
       "    </tr>\n",
       "  </tbody>\n",
       "</table>\n",
       "</div>"
      ],
      "text/plain": [
       "  crash_time  crash_date day_of_week  hour_of_accident\n",
       "0   12:51:00  2020-10-08    Thursday                12\n",
       "1   12:51:00  2020-10-08    Thursday                12\n",
       "2   07:35:00  2020-10-08    Thursday                 7\n",
       "3   07:35:00  2020-10-08    Thursday                 7\n",
       "4   23:51:00  2020-10-07   Wednesday                23\n",
       "5   20:20:00  2020-10-07   Wednesday                20\n",
       "6   17:16:00  2020-10-07   Wednesday                17\n",
       "7   17:16:00  2020-10-07   Wednesday                17\n",
       "8   12:34:00  2020-10-07   Wednesday                12\n",
       "9   12:34:00  2020-10-07   Wednesday                12"
      ]
     },
     "execution_count": 10,
     "metadata": {},
     "output_type": "execute_result"
    }
   ],
   "source": [
    "df[['crash_time','crash_date','day_of_week','hour_of_accident']].head(10)"
   ]
  },
  {
   "cell_type": "markdown",
   "metadata": {},
   "source": [
    "## Identifying the missing data"
   ]
  },
  {
   "cell_type": "markdown",
   "metadata": {},
   "source": [
    "The first thing that we did was to look at the portions of data that is missing for each column in our dataframe"
   ]
  },
  {
   "cell_type": "code",
   "execution_count": 11,
   "metadata": {},
   "outputs": [
    {
     "data": {
      "text/plain": [
       "report_number                     0.000\n",
       "local_case_number                 0.000\n",
       "agency_name                       0.000\n",
       "acrs_report_type                  0.000\n",
       "route_type                        0.097\n",
       "road_name                         0.094\n",
       "cross_street_type                 0.097\n",
       "cross_street_name                 0.094\n",
       "off_road_description              0.906\n",
       "municipality                      0.870\n",
       "related_non_motorist              0.953\n",
       "collision_type                    0.003\n",
       "weather                           0.079\n",
       "surface_condition                 0.120\n",
       "light                             0.009\n",
       "traffic_control                   0.148\n",
       "driver_substance_abuse            0.126\n",
       "non_motorist_substance_abuse      0.965\n",
       "person_id                         0.000\n",
       "driver_at_fault                   0.000\n",
       "injury_severity                   0.000\n",
       "circumstance                      0.840\n",
       "driver_distracted_by              0.000\n",
       "drivers_license_state             0.065\n",
       "vehicle_id                        0.000\n",
       "vehicle_damage_extent             0.002\n",
       "vehicle_first_impact_location     0.000\n",
       "vehicle_second_impact_location    0.000\n",
       "vehicle_body_type                 0.020\n",
       "vehicle_movement                  0.002\n",
       "vehicle_continuing_dir            0.015\n",
       "vehicle_going_dir                 0.015\n",
       "speed_limit                       0.000\n",
       "driverless_vehicle                0.000\n",
       "parked_vehicle                    0.000\n",
       "vehicle_year                      0.000\n",
       "vehicle_make                      0.000\n",
       "vehicle_model                     0.000\n",
       "equipment_problems                0.177\n",
       "latitude                          0.000\n",
       "longitude                         0.000\n",
       "geolocation                       0.000\n",
       "crash_time                        0.000\n",
       "crash_date                        0.000\n",
       "day_of_week                       0.000\n",
       "hour_of_accident                  0.000\n",
       "dtype: float64"
      ]
     },
     "execution_count": 11,
     "metadata": {},
     "output_type": "execute_result"
    }
   ],
   "source": [
    "df.isna().mean()"
   ]
  },
  {
   "cell_type": "markdown",
   "metadata": {},
   "source": [
    "This shows us all columns that contain missing/null data"
   ]
  },
  {
   "cell_type": "markdown",
   "metadata": {},
   "source": [
    "##### Fraction of nan values by row\n",
    "Note: We limited the results by only 10"
   ]
  },
  {
   "cell_type": "code",
   "execution_count": 12,
   "metadata": {},
   "outputs": [
    {
     "data": {
      "text/plain": [
       "0    0.086957\n",
       "1    0.108696\n",
       "2    0.065217\n",
       "3    0.065217\n",
       "4    0.130435\n",
       "5    0.217391\n",
       "6    0.108696\n",
       "7    0.108696\n",
       "8    0.152174\n",
       "9    0.130435\n",
       "dtype: float64"
      ]
     },
     "execution_count": 12,
     "metadata": {},
     "output_type": "execute_result"
    }
   ],
   "source": [
    "df.isna().mean(axis = 1).head(10)"
   ]
  },
  {
   "cell_type": "markdown",
   "metadata": {},
   "source": [
    "It looks like there is a good portion of data within the dataset that is null."
   ]
  },
  {
   "cell_type": "code",
   "execution_count": 13,
   "metadata": {},
   "outputs": [
    {
     "data": {
      "text/plain": [
       "0.12384782608695652"
      ]
     },
     "execution_count": 13,
     "metadata": {},
     "output_type": "execute_result"
    }
   ],
   "source": [
    "df.isna().mean(axis = 1).mean()"
   ]
  },
  {
   "cell_type": "markdown",
   "metadata": {},
   "source": [
    "On average, it looks like the average row contains around %12 of null data"
   ]
  },
  {
   "cell_type": "markdown",
   "metadata": {},
   "source": [
    "### Lets take a look at some of the columns that have null values"
   ]
  },
  {
   "cell_type": "code",
   "execution_count": 14,
   "metadata": {},
   "outputs": [
    {
     "data": {
      "text/plain": [
       "report_number                       0\n",
       "local_case_number                   0\n",
       "agency_name                         0\n",
       "acrs_report_type                    0\n",
       "route_type                         97\n",
       "road_name                          94\n",
       "cross_street_type                  97\n",
       "cross_street_name                  94\n",
       "off_road_description              906\n",
       "municipality                      870\n",
       "related_non_motorist              953\n",
       "collision_type                      3\n",
       "weather                            79\n",
       "surface_condition                 120\n",
       "light                               9\n",
       "traffic_control                   148\n",
       "driver_substance_abuse            126\n",
       "non_motorist_substance_abuse      965\n",
       "person_id                           0\n",
       "driver_at_fault                     0\n",
       "injury_severity                     0\n",
       "circumstance                      840\n",
       "driver_distracted_by                0\n",
       "drivers_license_state              65\n",
       "vehicle_id                          0\n",
       "vehicle_damage_extent               2\n",
       "vehicle_first_impact_location       0\n",
       "vehicle_second_impact_location      0\n",
       "vehicle_body_type                  20\n",
       "vehicle_movement                    2\n",
       "vehicle_continuing_dir             15\n",
       "vehicle_going_dir                  15\n",
       "speed_limit                         0\n",
       "driverless_vehicle                  0\n",
       "parked_vehicle                      0\n",
       "vehicle_year                        0\n",
       "vehicle_make                        0\n",
       "vehicle_model                       0\n",
       "equipment_problems                177\n",
       "latitude                            0\n",
       "longitude                           0\n",
       "geolocation                         0\n",
       "crash_time                          0\n",
       "crash_date                          0\n",
       "day_of_week                         0\n",
       "hour_of_accident                    0\n",
       "dtype: int64"
      ]
     },
     "execution_count": 14,
     "metadata": {},
     "output_type": "execute_result"
    }
   ],
   "source": [
    "df.isna().sum()"
   ]
  },
  {
   "cell_type": "markdown",
   "metadata": {},
   "source": [
    "### How many null values are in the dataset?"
   ]
  },
  {
   "cell_type": "code",
   "execution_count": 15,
   "metadata": {},
   "outputs": [
    {
     "data": {
      "text/plain": [
       "5697"
      ]
     },
     "execution_count": 15,
     "metadata": {},
     "output_type": "execute_result"
    }
   ],
   "source": [
    "df.isna().sum().sum()"
   ]
  },
  {
   "cell_type": "markdown",
   "metadata": {},
   "source": [
    "### Lets get a list of the columns that contain null values so we know what we should look into potentially dropping"
   ]
  },
  {
   "cell_type": "code",
   "execution_count": 16,
   "metadata": {},
   "outputs": [
    {
     "data": {
      "text/plain": [
       "['route_type',\n",
       " 'road_name',\n",
       " 'cross_street_type',\n",
       " 'cross_street_name',\n",
       " 'off_road_description',\n",
       " 'municipality',\n",
       " 'related_non_motorist',\n",
       " 'collision_type',\n",
       " 'weather',\n",
       " 'surface_condition',\n",
       " 'light',\n",
       " 'traffic_control',\n",
       " 'driver_substance_abuse',\n",
       " 'non_motorist_substance_abuse',\n",
       " 'circumstance',\n",
       " 'drivers_license_state',\n",
       " 'vehicle_damage_extent',\n",
       " 'vehicle_body_type',\n",
       " 'vehicle_movement',\n",
       " 'vehicle_continuing_dir',\n",
       " 'vehicle_going_dir',\n",
       " 'equipment_problems']"
      ]
     },
     "execution_count": 16,
     "metadata": {},
     "output_type": "execute_result"
    }
   ],
   "source": [
    "df.columns[df.isnull().any()].tolist()"
   ]
  },
  {
   "cell_type": "markdown",
   "metadata": {},
   "source": [
    "### Drop some columns that are not useful for our report"
   ]
  },
  {
   "cell_type": "markdown",
   "metadata": {},
   "source": [
    "When deciding which columns we wanted to drop, we considered a couple of different things like:\n",
    "1. How useful is this data? In something like the report_number or local_case_number columns, each one of those columns contained only unique values. This ment that there would be no correlations that we could make with those columns.\n",
    "2. How much unique data is too unique? In something like the cross_street_name, there were hundreds of different streets within the dataset. There were of course some streets that had more accidents on than others. But because there were so many streets to look at, it was just not feasable to consider the cross street as something that might provide useful insights. \n",
    "3. How much data is missing? In something like the non_motorist_substance_abuse or circumstance, it would have been nice to have those columns not contain null or missing data. But because they both contained a substantial amount of missing data, it was also not reasonable to consider compairing those columns against other columns. If we had a dataset of maybe 10,000 or 100,000 accidents, then we might have had enough data to do something with those coumns. \n",
    "\n",
    "Of course we could make the case for every colunm we dropped and why, but all the columns we decided to drop fit underneath those three things we considered as a filtering method. "
   ]
  },
  {
   "cell_type": "code",
   "execution_count": 17,
   "metadata": {},
   "outputs": [],
   "source": [
    "df = df.drop(columns=\"report_number\")\n",
    "df = df.drop(columns=\"local_case_number\")\n",
    "df = df.drop(columns=\"cross_street_name\")\n",
    "df = df.drop(columns=\"off_road_description\")\n",
    "df = df.drop(columns=\"related_non_motorist\")\n",
    "df = df.drop(columns=\"person_id\")\n",
    "df = df.drop(columns=\"circumstance\")\n",
    "df = df.drop(columns=\"vehicle_id\")\n",
    "df = df.drop(columns=\"drivers_license_state\")\n",
    "df = df.drop(columns=\"vehicle_continuing_dir\")\n",
    "df = df.drop(columns=\"vehicle_going_dir\")\n",
    "df = df.drop(columns=\"driverless_vehicle\")\n",
    "df = df.drop(columns=\"parked_vehicle\")\n",
    "df = df.drop(columns=\"vehicle_year\")\n",
    "df = df.drop(columns=\"vehicle_make\")\n",
    "df = df.drop(columns=\"vehicle_model\")\n",
    "df = df.drop(columns=\"equipment_problems\")\n",
    "df = df.drop(columns=\"non_motorist_substance_abuse\")\n",
    "df = df.drop(columns=\"municipality\")"
   ]
  },
  {
   "cell_type": "markdown",
   "metadata": {},
   "source": [
    "What are the columns that still have null values?"
   ]
  },
  {
   "cell_type": "code",
   "execution_count": 18,
   "metadata": {},
   "outputs": [
    {
     "data": {
      "text/plain": [
       "0                 route_type\n",
       "1                  road_name\n",
       "2          cross_street_type\n",
       "3             collision_type\n",
       "4                    weather\n",
       "5          surface_condition\n",
       "6                      light\n",
       "7            traffic_control\n",
       "8     driver_substance_abuse\n",
       "9      vehicle_damage_extent\n",
       "10         vehicle_body_type\n",
       "11          vehicle_movement\n",
       "dtype: object"
      ]
     },
     "execution_count": 18,
     "metadata": {},
     "output_type": "execute_result"
    }
   ],
   "source": [
    "pd.Series(df.columns[df.isna().mean() > 0])"
   ]
  },
  {
   "cell_type": "markdown",
   "metadata": {},
   "source": [
    "##### Lets look into the columns that have null values to see if there is anything we would want to drop"
   ]
  },
  {
   "cell_type": "code",
   "execution_count": 19,
   "metadata": {},
   "outputs": [
    {
     "name": "stdout",
     "output_type": "stream",
     "text": [
      "Maryland (State)        471\n",
      "County                  289\n",
      "NaN                      97\n",
      "Municipality             69\n",
      "US (State)               42\n",
      "Interstate (State)       16\n",
      "Other Public Roadway     11\n",
      "Ramp                      5\n",
      "Name: route_type, dtype: Int64\n",
      "\n",
      "\n",
      "NaN                                       94\n",
      "GEORGIA AVE                               66\n",
      "NEW HAMPSHIRE AVE                         40\n",
      "FREDERICK RD                              34\n",
      "ROCKVILLE PIKE                            33\n",
      "CONNECTICUT AVE                           32\n",
      "RANDOLPH RD                               23\n",
      "VEIRS MILL RD                             23\n",
      "COLUMBIA PIKE                             23\n",
      "PINEY BRANCH RD                           21\n",
      "CLOPPER RD                                19\n",
      "COLESVILLE RD                             18\n",
      "SHADY GROVE RD                            18\n",
      "GREAT SENECA HWY                          15\n",
      "MIDDLEBROOK RD                            14\n",
      "UNIVERSITY BLVD W                         14\n",
      "NORBECK RD                                13\n",
      "UNIVERSITY BLVD E                         12\n",
      "W MONTGOMERY AVE                          11\n",
      "GERMANTOWN RD                             11\n",
      "WOODFIELD RD                              11\n",
      "RIVER RD                                   9\n",
      "DARNESTOWN RD                              9\n",
      "E GUDE DR                                  8\n",
      "MONTGOMERY VILLAGE AVE                     8\n",
      "LAYHILL RD                                 8\n",
      "QUINCE ORCHARD RD                          8\n",
      "CAPITAL BELTWAY                            8\n",
      "EISENHOWER MEMORIAL HWY                    8\n",
      "MUNCASTER MILL RD                          6\n",
      "HUNGERFORD DR                              6\n",
      "BONIFANT RD                                6\n",
      "FIRST ST                                   6\n",
      "RIDGE RD                                   6\n",
      "WIGHTMAN RD                                6\n",
      "MONTROSE PKWY                              6\n",
      "FALLS RD                                   5\n",
      "BRIGGS CHANEY RD                           5\n",
      "OLNEY LAYTONSVILLE RD                      5\n",
      "WISTERIA DR                                5\n",
      "MUDDY BRANCH RD                            5\n",
      "WOOTTON PKWY                               5\n",
      "MONROE ST                                  5\n",
      "BRADLEY BLVD                               5\n",
      "MASSACHUSETTS AVE                          5\n",
      "MONTROSE RD                                5\n",
      "CRYSTAL ROCK DR                            4\n",
      "SNOUFFERS SCHOOL RD                        4\n",
      "WHITES FERRY RD                            4\n",
      "W DIAMOND AVE                              4\n",
      "OLD GEORGETOWN RD                          4\n",
      "FLOWER AVE                                 4\n",
      "SAM EIG HWY                                4\n",
      "EAST WEST HWY                              4\n",
      "PARKLAWN DR                                4\n",
      "CLARKSBURG RD                              4\n",
      "SEVEN LOCKS RD                             4\n",
      "OLD COLUMBIA PIKE                          4\n",
      "SANDY SPRING RD                            4\n",
      "WASHINGTONIAN BLVD                         4\n",
      "CENTERWAY RD                               4\n",
      "N STONESTREET AVE                          3\n",
      "GOSHEN RD                                  3\n",
      "OLNEY SANDY SPRING RD                      3\n",
      "ARCOLA AVE                                 3\n",
      "WISCONSIN AVE                              3\n",
      "E JEFFERSON ST                             3\n",
      "DAMASCUS RD                                3\n",
      "RAMP 1 FR IS 270 NB TO MD 28 WB            3\n",
      "NICHOLSON LA                               3\n",
      "BEL PRE RD                                 3\n",
      "E FRANKLIN AVE                             3\n",
      "BROOKE RD                                  2\n",
      "LOCKWOOD DR                                2\n",
      "S FREDERICK RD                             2\n",
      "MEDICAL CENTER DR                          2\n",
      "WARFIELD RD                                2\n",
      "FOREST GLEN RD                             2\n",
      "ROCKLEDGE DR                               2\n",
      "GAME PRESERVE RD                           2\n",
      "SILVER SPRING AVE                          2\n",
      "TOWER OAKS BLVD                            2\n",
      "SHAKESPEARE BLVD                           2\n",
      "BUREAU DR                                  2\n",
      "RUSSELL AVE                                2\n",
      "KEY WEST AVE                               2\n",
      "SEMINARY PL                                2\n",
      "POWDER MILL RD                             2\n",
      "PICCARD DR                                 2\n",
      "WASHINGTON GROVE LA                        2\n",
      "LAYTONSVILLE RD                            2\n",
      "FIRSTFIELD RD                              2\n",
      "GLEN RD                                    2\n",
      "GUNNERS BRANCH RD                          2\n",
      "MURIEL ST                                  2\n",
      "WOODLAND DR                                2\n",
      "MERRIMAC DR                                2\n",
      "GREENEL RD                                 2\n",
      "AMARANTH DR                                2\n",
      "KING FARM BLVD                             2\n",
      "E RANDOLPH RD                              2\n",
      "LONGDRAFT RD                               2\n",
      "VANDALIA DR                                2\n",
      "BROOKEVILLE RD                             2\n",
      "REEDIE DR                                  2\n",
      "UNIVERSITY BLVD E SERV RD                  2\n",
      "NORWOOD RD                                 2\n",
      "PARHAM RD                                  2\n",
      "MIDCOUNTY HWY                              2\n",
      "CENTRAL AVE                                2\n",
      "STRINGTOWN RD                              2\n",
      "ROTHBURY DR                                2\n",
      "BROOKSIDE DR                               2\n",
      "SOUTHLAWN LA                               2\n",
      "DENNIS AVE                                 2\n",
      "SECOND AVE                                 2\n",
      "EMORY GROVE RD                             2\n",
      "CARROLL AVE                                2\n",
      "REDLAND BLVD                               2\n",
      "SPRING ST                                  2\n",
      "FATHER HURLEY BLVD                         2\n",
      "E DIAMOND AVE                              2\n",
      "FIELDCREST RD                              2\n",
      "TRAVILAH RD                                2\n",
      "HILLCREST AVE                              2\n",
      "OLD HUNDRED RD                             2\n",
      "CRESTFIELD DR                              2\n",
      "LYTTONSVILLE RD                            2\n",
      "CHRISTOPHER AVE                            2\n",
      "HOLTON LA                                  2\n",
      "ADELPHI RD                                 2\n",
      "THORNHURST DR                              2\n",
      "PRICE AVE                                  2\n",
      "LONGHILL DR                                2\n",
      "FAIRLAND RD                                2\n",
      "DUFIEF MILL RD                             2\n",
      "11TH AVE                                   1\n",
      "KINGSHOUSE RD                              1\n",
      "W HUNTER RD                                1\n",
      "DUVALL LA                                  1\n",
      "GRAND CHAMPION DR                          1\n",
      "OLD CHESTER RD                             1\n",
      "RAMP 5 FR IS 270 SB TO MD 28 EB            1\n",
      "BLANDFORD ST                               1\n",
      "GROSVENOR LA                               1\n",
      "COMUS RD                                   1\n",
      "TWINBROOK PKWY                             1\n",
      "EDMONSTON DR                               1\n",
      "ANNE AVE                                   1\n",
      "PARKLAND DR                                1\n",
      "HORSESHOE BEND CIR                         1\n",
      "CRAWFORD DR                                1\n",
      "SPENCER RD                                 1\n",
      "NICKELBY CT                                1\n",
      "LONGMEAD CROSSING DR                       1\n",
      "ASHTON RD                                  1\n",
      "BOWMAN MILL RD                             1\n",
      "TIMBER CREEK LA                            1\n",
      "ROCK SPRING DR                             1\n",
      "ODENDHAL AVE                               1\n",
      "BATCHELLORS FOREST RD                      1\n",
      "CATTAIL RD                                 1\n",
      "STONEY BOTTOM RD                           1\n",
      "JANUARY DRIVE                              1\n",
      "TENBROOK DR                                1\n",
      "OUTPOST DR                                 1\n",
      "BRANDERMILL DR                             1\n",
      "EXECUTIVE BLVD                             1\n",
      "COLLEGE PKWY                               1\n",
      "16TH ST                                    1\n",
      "SCENERY DR                                 1\n",
      "SKYLARK RD                                 1\n",
      "CRABBS BRANCH WAY                          1\n",
      "RAMP 2 FR DEMOCRACY BLVD TO IS 270Y NB     1\n",
      "ARLISS ST                                  1\n",
      "SPINNING WHEEL PL                          1\n",
      "BRIERLY RD                                 1\n",
      "ASPEN HILL RD                              1\n",
      "PEBBLE RUN DR                              1\n",
      "WOODBURN RD                                1\n",
      "DENHAM RD                                  1\n",
      "GLENMORE TERR                              1\n",
      "BOYD AVE                                   1\n",
      "TRAILRIDGE DR                              1\n",
      "AIRPARK RD                                 1\n",
      "MARYLAND AVE                               1\n",
      "CAPE MAY RD                                1\n",
      "DILSTON RD                                 1\n",
      "PRINCETON PL                               1\n",
      "CEDAR LA                                   1\n",
      "QUAIL VALLEY BLVD                          1\n",
      "GRIDLEY RD                                 1\n",
      "THAYER AVE                                 1\n",
      "PERRY PKWY                                 1\n",
      "GOODHILL RD                                1\n",
      "FLORA LA                                   1\n",
      "FOREST AVE                                 1\n",
      "BLUNT RD                                   1\n",
      "LITTLE SENECA PARKWAY                      1\n",
      "DIXIE RIDGE TERR                           1\n",
      "LINCOLN ST                                 1\n",
      "LINTON ST                                  1\n",
      "BLUERIDGE AVE                              1\n",
      "FLEET ST                                   1\n",
      "W WATKINS MILL RD                          1\n",
      "MILESTONE MANOR LA                         1\n",
      "BRINK RD                                   1\n",
      "CENTERHILL ST                              1\n",
      "RESEARCH BLVD                              1\n",
      "BLAIR MILL RD                              1\n",
      "WEST SIDE DR                               1\n",
      "BALTIMORE RD                               1\n",
      "Name: road_name, dtype: Int64\n",
      "\n",
      "\n",
      "County                  478\n",
      "Maryland (State)        143\n",
      "Municipality            130\n",
      "NaN                      97\n",
      "Unknown                  71\n",
      "Other Public Roadway     36\n",
      "Ramp                     26\n",
      "US (State)                8\n",
      "Government                6\n",
      "Interstate (State)        5\n",
      "Name: cross_street_type, dtype: Int64\n",
      "\n",
      "\n",
      "SAME DIR REAR END               273\n",
      "STRAIGHT MOVEMENT ANGLE         233\n",
      "OTHER                           128\n",
      "SINGLE VEHICLE                   95\n",
      "SAME DIRECTION SIDESWIPE         87\n",
      "HEAD ON LEFT TURN                66\n",
      "SAME DIRECTION RIGHT TURN        23\n",
      "HEAD ON                          21\n",
      "SAME DIRECTION LEFT TURN         20\n",
      "OPPOSITE DIRECTION SIDESWIPE     18\n",
      "ANGLE MEETS LEFT TURN            10\n",
      "ANGLE MEETS LEFT HEAD ON          6\n",
      "SAME DIR BOTH LEFT TURN           6\n",
      "ANGLE MEETS RIGHT TURN            4\n",
      "OPPOSITE DIR BOTH LEFT TURN       3\n",
      "NaN                               3\n",
      "UNKNOWN                           2\n",
      "SAME DIR REND LEFT TURN           2\n",
      "Name: collision_type, dtype: Int64\n",
      "\n",
      "\n",
      "CLEAR      664\n",
      "CLOUDY     134\n",
      "RAINING    113\n",
      "NaN         79\n",
      "FOGGY        6\n",
      "UNKNOWN      2\n",
      "SLEET        2\n",
      "Name: weather, dtype: Int64\n",
      "\n",
      "\n",
      "DRY        714\n",
      "WET        165\n",
      "NaN        120\n",
      "UNKNOWN      1\n",
      "Name: surface_condition, dtype: Int64\n",
      "\n",
      "\n",
      "DAYLIGHT                    690\n",
      "DARK LIGHTS ON              211\n",
      "DARK NO LIGHTS               37\n",
      "DUSK                         25\n",
      "DAWN                         16\n",
      "NaN                           9\n",
      "DARK -- UNKNOWN LIGHTING      7\n",
      "UNKNOWN                       4\n",
      "OTHER                         1\n",
      "Name: light, dtype: Int64\n",
      "\n",
      "\n",
      "NO CONTROLS                402\n",
      "TRAFFIC SIGNAL             343\n",
      "NaN                        148\n",
      "STOP SIGN                   67\n",
      "OTHER                       14\n",
      "YIELD SIGN                  12\n",
      "FLASHING TRAFFIC SIGNAL      9\n",
      "PERSON                       2\n",
      "UNKNOWN                      2\n",
      "WARNING SIGN                 1\n",
      "Name: traffic_control, dtype: Int64\n",
      "\n",
      "\n",
      "NONE DETECTED               759\n",
      "NaN                         126\n",
      "UNKNOWN                      80\n",
      "ALCOHOL PRESENT              18\n",
      "ALCOHOL CONTRIBUTED          11\n",
      "ILLEGAL DRUG PRESENT          2\n",
      "MEDICATION PRESENT            1\n",
      "COMBINATION CONTRIBUTED       1\n",
      "ILLEGAL DRUG CONTRIBUTED      1\n",
      "MEDICATION CONTRIBUTED        1\n",
      "Name: driver_substance_abuse, dtype: Int64\n",
      "\n",
      "\n",
      "DISABLING      413\n",
      "SUPERFICIAL    241\n",
      "FUNCTIONAL     225\n",
      "DESTROYED       44\n",
      "UNKNOWN         41\n",
      "NO DAMAGE       34\n",
      "NaN              2\n",
      "Name: vehicle_damage_extent, dtype: Int64\n",
      "\n",
      "\n",
      "PASSENGER CAR                                                696\n",
      "(SPORT) UTILITY VEHICLE                                       96\n",
      "PICKUP TRUCK                                                  40\n",
      "VAN                                                           29\n",
      "NaN                                                           20\n",
      "TRANSIT BUS                                                   14\n",
      "POLICE VEHICLE/NON EMERGENCY                                  14\n",
      "CARGO VAN/LIGHT TRUCK 2 AXLES (OVER 10,000LBS (4,536 KG))     14\n",
      "MOTORCYCLE                                                    13\n",
      "OTHER LIGHT TRUCKS (10,000LBS (4,536KG) OR LESS)              12\n",
      "POLICE VEHICLE/EMERGENCY                                      10\n",
      "OTHER                                                          8\n",
      "MEDIUM/HEAVY TRUCKS 3 AXLES (OVER 10,000LBS (4,536KG))         7\n",
      "UNKNOWN                                                        6\n",
      "STATION WAGON                                                  4\n",
      "TRUCK TRACTOR                                                  4\n",
      "AMBULANCE/EMERGENCY                                            4\n",
      "FIRE VEHICLE/EMERGENCY                                         3\n",
      "FIRE VEHICLE/NON EMERGENCY                                     2\n",
      "OTHER BUS                                                      1\n",
      "AUTOCYCLE                                                      1\n",
      "CROSS COUNTRY BUS                                              1\n",
      "LOW SPEED VEHICLE                                              1\n",
      "Name: vehicle_body_type, dtype: Int64\n",
      "\n",
      "\n",
      "MOVING CONSTANT SPEED      433\n",
      "SLOWING OR STOPPING        110\n",
      "MAKING LEFT TURN            99\n",
      "STOPPED IN TRAFFIC LANE     82\n",
      "ACCELERATING                66\n",
      "MAKING RIGHT TURN           38\n",
      "BACKING                     36\n",
      "CHANGING LANES              30\n",
      "STARTING FROM LANE          22\n",
      "PARKED                      15\n",
      "UNKNOWN                     11\n",
      "STARTING FROM PARKED        11\n",
      "PARKING                      9\n",
      "MAKING U TURN                9\n",
      "PASSING                      8\n",
      "ENTERING TRAFFIC LANE        6\n",
      "NEGOTIATING A CURVE          5\n",
      "OTHER                        4\n",
      "SKIDDING                     2\n",
      "RIGHT TURN ON RED            2\n",
      "NaN                          2\n",
      "Name: vehicle_movement, dtype: Int64\n",
      "\n",
      "\n"
     ]
    }
   ],
   "source": [
    "for col in df.columns[df.isnull().any()].tolist():\n",
    "    print(df[col].value_counts(dropna=False))\n",
    "    print(\"\\n\")"
   ]
  },
  {
   "cell_type": "markdown",
   "metadata": {},
   "source": [
    "###### Lets replace those null values with something other than null and NaN"
   ]
  },
  {
   "cell_type": "code",
   "execution_count": 20,
   "metadata": {},
   "outputs": [],
   "source": [
    "df['route_type'].replace(np.nan, 'Not Reported', inplace=True)\n",
    "df['road_name'].replace(np.nan, 'Not Reported', inplace=True)\n",
    "df['cross_street_type'].replace(np.nan, 'Unknown', inplace=True)\n",
    "df['collision_type'].replace(np.nan, 'UNKNOWN', inplace=True)\n",
    "df['weather'].replace(np.nan, 'UNKNOWN', inplace=True)\n",
    "df['surface_condition'].replace(np.nan, 'UNKNOWN', inplace=True)\n",
    "df['light'].replace(np.nan, 'UNKNOWN', inplace=True)\n",
    "df['traffic_control'].replace(np.nan, 'UNKNOWN', inplace=True)\n",
    "df['driver_substance_abuse'].replace(np.nan, 'UNKNOWN', inplace=True)\n",
    "df['vehicle_damage_extent'].replace(np.nan, 'UNKNOWN', inplace=True)\n",
    "df['vehicle_body_type'].replace(np.nan, 'UNKNOWN', inplace=True)\n",
    "df['vehicle_movement'].replace(np.nan, 'UNKNOWN', inplace=True)"
   ]
  },
  {
   "cell_type": "markdown",
   "metadata": {},
   "source": [
    "Because we are not going to be looking at any of these variables within our report, instead of dropping these rows, we will replace each observation that is missing data with either 'Unknown' or 'Not Reported' so we are able to preserve the data we are interested in looking at. \n",
    "\n",
    "Lets take a look now to see what the null values looks like:"
   ]
  },
  {
   "cell_type": "code",
   "execution_count": 21,
   "metadata": {},
   "outputs": [
    {
     "data": {
      "text/plain": [
       "0"
      ]
     },
     "execution_count": 21,
     "metadata": {},
     "output_type": "execute_result"
    }
   ],
   "source": [
    "df.isna().sum().sum()"
   ]
  },
  {
   "cell_type": "markdown",
   "metadata": {},
   "source": [
    "###### What are the new columns for the dataframe?"
   ]
  },
  {
   "cell_type": "code",
   "execution_count": 22,
   "metadata": {},
   "outputs": [
    {
     "name": "stdout",
     "output_type": "stream",
     "text": [
      "<class 'pandas.core.frame.DataFrame'>\n",
      "RangeIndex: 1000 entries, 0 to 999\n",
      "Data columns (total 27 columns):\n",
      " #   Column                          Non-Null Count  Dtype  \n",
      "---  ------                          --------------  -----  \n",
      " 0   agency_name                     1000 non-null   string \n",
      " 1   acrs_report_type                1000 non-null   string \n",
      " 2   route_type                      1000 non-null   string \n",
      " 3   road_name                       1000 non-null   string \n",
      " 4   cross_street_type               1000 non-null   string \n",
      " 5   collision_type                  1000 non-null   string \n",
      " 6   weather                         1000 non-null   string \n",
      " 7   surface_condition               1000 non-null   string \n",
      " 8   light                           1000 non-null   string \n",
      " 9   traffic_control                 1000 non-null   string \n",
      " 10  driver_substance_abuse          1000 non-null   string \n",
      " 11  driver_at_fault                 1000 non-null   string \n",
      " 12  injury_severity                 1000 non-null   string \n",
      " 13  driver_distracted_by            1000 non-null   string \n",
      " 14  vehicle_damage_extent           1000 non-null   string \n",
      " 15  vehicle_first_impact_location   1000 non-null   string \n",
      " 16  vehicle_second_impact_location  1000 non-null   string \n",
      " 17  vehicle_body_type               1000 non-null   string \n",
      " 18  vehicle_movement                1000 non-null   string \n",
      " 19  speed_limit                     1000 non-null   Int64  \n",
      " 20  latitude                        1000 non-null   float64\n",
      " 21  longitude                       1000 non-null   float64\n",
      " 22  geolocation                     1000 non-null   string \n",
      " 23  crash_time                      1000 non-null   object \n",
      " 24  crash_date                      1000 non-null   object \n",
      " 25  day_of_week                     1000 non-null   object \n",
      " 26  hour_of_accident                1000 non-null   int64  \n",
      "dtypes: Int64(1), float64(2), int64(1), object(3), string(20)\n",
      "memory usage: 212.0+ KB\n"
     ]
    }
   ],
   "source": [
    "df.info()"
   ]
  },
  {
   "cell_type": "markdown",
   "metadata": {},
   "source": [
    "We now can see that we no longer have any null values within our dataframe. Lets now move onto exploring the data and creating visualizations"
   ]
  },
  {
   "cell_type": "markdown",
   "metadata": {},
   "source": [
    "# Data Exploration and Visualization"
   ]
  },
  {
   "cell_type": "markdown",
   "metadata": {},
   "source": [
    "### Look up to see if there is any easy correlations between things"
   ]
  },
  {
   "cell_type": "code",
   "execution_count": 23,
   "metadata": {},
   "outputs": [
    {
     "data": {
      "text/html": [
       "<div>\n",
       "<style scoped>\n",
       "    .dataframe tbody tr th:only-of-type {\n",
       "        vertical-align: middle;\n",
       "    }\n",
       "\n",
       "    .dataframe tbody tr th {\n",
       "        vertical-align: top;\n",
       "    }\n",
       "\n",
       "    .dataframe thead th {\n",
       "        text-align: right;\n",
       "    }\n",
       "</style>\n",
       "<table border=\"1\" class=\"dataframe\">\n",
       "  <thead>\n",
       "    <tr style=\"text-align: right;\">\n",
       "      <th></th>\n",
       "      <th>speed_limit</th>\n",
       "      <th>latitude</th>\n",
       "      <th>longitude</th>\n",
       "      <th>hour_of_accident</th>\n",
       "    </tr>\n",
       "  </thead>\n",
       "  <tbody>\n",
       "    <tr>\n",
       "      <th>speed_limit</th>\n",
       "      <td>1.000000</td>\n",
       "      <td>0.098722</td>\n",
       "      <td>0.019613</td>\n",
       "      <td>-0.009120</td>\n",
       "    </tr>\n",
       "    <tr>\n",
       "      <th>latitude</th>\n",
       "      <td>0.098722</td>\n",
       "      <td>1.000000</td>\n",
       "      <td>-0.691755</td>\n",
       "      <td>-0.032486</td>\n",
       "    </tr>\n",
       "    <tr>\n",
       "      <th>longitude</th>\n",
       "      <td>0.019613</td>\n",
       "      <td>-0.691755</td>\n",
       "      <td>1.000000</td>\n",
       "      <td>0.073832</td>\n",
       "    </tr>\n",
       "    <tr>\n",
       "      <th>hour_of_accident</th>\n",
       "      <td>-0.009120</td>\n",
       "      <td>-0.032486</td>\n",
       "      <td>0.073832</td>\n",
       "      <td>1.000000</td>\n",
       "    </tr>\n",
       "  </tbody>\n",
       "</table>\n",
       "</div>"
      ],
      "text/plain": [
       "                  speed_limit  latitude  longitude  hour_of_accident\n",
       "speed_limit          1.000000  0.098722   0.019613         -0.009120\n",
       "latitude             0.098722  1.000000  -0.691755         -0.032486\n",
       "longitude            0.019613 -0.691755   1.000000          0.073832\n",
       "hour_of_accident    -0.009120 -0.032486   0.073832          1.000000"
      ]
     },
     "execution_count": 23,
     "metadata": {},
     "output_type": "execute_result"
    }
   ],
   "source": [
    "df.corr()"
   ]
  },
  {
   "cell_type": "markdown",
   "metadata": {},
   "source": [
    "Because most of the dataset is categorical data, there are no correlations that wil provide any useful insight. "
   ]
  },
  {
   "cell_type": "markdown",
   "metadata": {},
   "source": [
    "## What are the unique values for each column? (Except for the locations)\n",
    "\n",
    "The first thing that we looked at was trying to see how many unique values there are in the dataset after cleaning and what those values are."
   ]
  },
  {
   "cell_type": "markdown",
   "metadata": {},
   "source": [
    "### Finding unique values and bad data"
   ]
  },
  {
   "cell_type": "markdown",
   "metadata": {},
   "source": [
    "Lets look at how many unique discrete values there are."
   ]
  },
  {
   "cell_type": "code",
   "execution_count": 24,
   "metadata": {
    "scrolled": true
   },
   "outputs": [
    {
     "data": {
      "text/plain": [
       "agency_name                         5\n",
       "acrs_report_type                    3\n",
       "route_type                          8\n",
       "road_name                         212\n",
       "cross_street_type                   9\n",
       "collision_type                     17\n",
       "weather                             6\n",
       "surface_condition                   3\n",
       "light                               8\n",
       "traffic_control                     9\n",
       "driver_substance_abuse              9\n",
       "driver_at_fault                     3\n",
       "injury_severity                     5\n",
       "driver_distracted_by               13\n",
       "vehicle_damage_extent               6\n",
       "vehicle_first_impact_location      16\n",
       "vehicle_second_impact_location     16\n",
       "vehicle_body_type                  22\n",
       "vehicle_movement                   20\n",
       "geolocation                       590\n",
       "crash_time                        415\n",
       "crash_date                         32\n",
       "day_of_week                         7\n",
       "dtype: int64"
      ]
     },
     "execution_count": 24,
     "metadata": {},
     "output_type": "execute_result"
    }
   ],
   "source": [
    "df_no_nums = df.select_dtypes(exclude='number')\n",
    "df_no_nums.apply(lambda x : len(x.unique()))"
   ]
  },
  {
   "cell_type": "markdown",
   "metadata": {},
   "source": [
    "Now lets look at how many distinct numeric values there are."
   ]
  },
  {
   "cell_type": "code",
   "execution_count": 25,
   "metadata": {},
   "outputs": [
    {
     "data": {
      "text/plain": [
       "speed_limit          13\n",
       "latitude            590\n",
       "longitude           590\n",
       "hour_of_accident     24\n",
       "dtype: int64"
      ]
     },
     "execution_count": 25,
     "metadata": {},
     "output_type": "execute_result"
    }
   ],
   "source": [
    "df_no_nums = df.select_dtypes(include='number')\n",
    "df_no_nums.apply(lambda x : len(x.unique()))"
   ]
  },
  {
   "cell_type": "markdown",
   "metadata": {},
   "source": [
    "We can see from above that some columns have a lot of unique values. We are generally going to want to say away from so many unique values in this report because it will be difficult to quantify some of the unqiueness of indivudual pieces of data."
   ]
  },
  {
   "cell_type": "markdown",
   "metadata": {},
   "source": [
    "### List of all the unique values for each column in the dataframe\n",
    "\n",
    "Note: \n",
    "We are excluding looking at the columns: latitude, longitude, geolocation, road_name, crash_time, crash_date because of the large number of unique values are in each column"
   ]
  },
  {
   "cell_type": "code",
   "execution_count": 26,
   "metadata": {},
   "outputs": [
    {
     "name": "stdout",
     "output_type": "stream",
     "text": [
      "Montgomery County Police     844\n",
      "Rockville Police Departme     93\n",
      "Gaithersburg Police Depar     27\n",
      "Takoma Park Police Depart     24\n",
      "Maryland-National Capital     12\n",
      "Name: agency_name, dtype: Int64\n",
      "\n",
      "\n",
      "Property Damage Crash    625\n",
      "Injury Crash             373\n",
      "Fatal Crash                2\n",
      "Name: acrs_report_type, dtype: Int64\n",
      "\n",
      "\n",
      "Maryland (State)        471\n",
      "County                  289\n",
      "Not Reported             97\n",
      "Municipality             69\n",
      "US (State)               42\n",
      "Interstate (State)       16\n",
      "Other Public Roadway     11\n",
      "Ramp                      5\n",
      "Name: route_type, dtype: Int64\n",
      "\n",
      "\n",
      "County                  478\n",
      "Unknown                 168\n",
      "Maryland (State)        143\n",
      "Municipality            130\n",
      "Other Public Roadway     36\n",
      "Ramp                     26\n",
      "US (State)                8\n",
      "Government                6\n",
      "Interstate (State)        5\n",
      "Name: cross_street_type, dtype: Int64\n",
      "\n",
      "\n",
      "SAME DIR REAR END               273\n",
      "STRAIGHT MOVEMENT ANGLE         233\n",
      "OTHER                           128\n",
      "SINGLE VEHICLE                   95\n",
      "SAME DIRECTION SIDESWIPE         87\n",
      "HEAD ON LEFT TURN                66\n",
      "SAME DIRECTION RIGHT TURN        23\n",
      "HEAD ON                          21\n",
      "SAME DIRECTION LEFT TURN         20\n",
      "OPPOSITE DIRECTION SIDESWIPE     18\n",
      "ANGLE MEETS LEFT TURN            10\n",
      "ANGLE MEETS LEFT HEAD ON          6\n",
      "SAME DIR BOTH LEFT TURN           6\n",
      "UNKNOWN                           5\n",
      "ANGLE MEETS RIGHT TURN            4\n",
      "OPPOSITE DIR BOTH LEFT TURN       3\n",
      "SAME DIR REND LEFT TURN           2\n",
      "Name: collision_type, dtype: Int64\n",
      "\n",
      "\n",
      "CLEAR      664\n",
      "CLOUDY     134\n",
      "RAINING    113\n",
      "UNKNOWN     81\n",
      "FOGGY        6\n",
      "SLEET        2\n",
      "Name: weather, dtype: Int64\n",
      "\n",
      "\n",
      "DRY        714\n",
      "WET        165\n",
      "UNKNOWN    121\n",
      "Name: surface_condition, dtype: Int64\n",
      "\n",
      "\n",
      "DAYLIGHT                    690\n",
      "DARK LIGHTS ON              211\n",
      "DARK NO LIGHTS               37\n",
      "DUSK                         25\n",
      "DAWN                         16\n",
      "UNKNOWN                      13\n",
      "DARK -- UNKNOWN LIGHTING      7\n",
      "OTHER                         1\n",
      "Name: light, dtype: Int64\n",
      "\n",
      "\n",
      "NO CONTROLS                402\n",
      "TRAFFIC SIGNAL             343\n",
      "UNKNOWN                    150\n",
      "STOP SIGN                   67\n",
      "OTHER                       14\n",
      "YIELD SIGN                  12\n",
      "FLASHING TRAFFIC SIGNAL      9\n",
      "PERSON                       2\n",
      "WARNING SIGN                 1\n",
      "Name: traffic_control, dtype: Int64\n",
      "\n",
      "\n",
      "NONE DETECTED               759\n",
      "UNKNOWN                     206\n",
      "ALCOHOL PRESENT              18\n",
      "ALCOHOL CONTRIBUTED          11\n",
      "ILLEGAL DRUG PRESENT          2\n",
      "MEDICATION PRESENT            1\n",
      "COMBINATION CONTRIBUTED       1\n",
      "ILLEGAL DRUG CONTRIBUTED      1\n",
      "MEDICATION CONTRIBUTED        1\n",
      "Name: driver_substance_abuse, dtype: Int64\n",
      "\n",
      "\n",
      "Yes        556\n",
      "No         413\n",
      "Unknown     31\n",
      "Name: driver_at_fault, dtype: Int64\n",
      "\n",
      "\n",
      "NO APPARENT INJURY          814\n",
      "POSSIBLE INJURY             111\n",
      "SUSPECTED MINOR INJURY       69\n",
      "SUSPECTED SERIOUS INJURY      5\n",
      "FATAL INJURY                  1\n",
      "Name: injury_severity, dtype: Int64\n",
      "\n",
      "\n",
      "NOT DISTRACTED                                       597\n",
      "UNKNOWN                                              172\n",
      "LOOKED BUT DID NOT SEE                               154\n",
      "OTHER DISTRACTION                                     30\n",
      "INATTENTIVE OR LOST IN THOUGHT                        27\n",
      "DISTRACTED BY OUTSIDE PERSON OBJECT OR EVENT           6\n",
      "TALKING OR LISTENING TO CELLULAR PHONE                 3\n",
      "OTHER CELLULAR PHONE RELATED                           3\n",
      "OTHER ELECTRONIC DEVICE (NAVIGATIONAL PALM PILOT)      2\n",
      "ADJUSTING AUDIO AND OR CLIMATE CONTROLS                2\n",
      "BY OTHER OCCUPANTS                                     2\n",
      "NO DRIVER PRESENT                                      1\n",
      "SMOKING RELATED                                        1\n",
      "Name: driver_distracted_by, dtype: Int64\n",
      "\n",
      "\n",
      "DISABLING      413\n",
      "SUPERFICIAL    241\n",
      "FUNCTIONAL     225\n",
      "DESTROYED       44\n",
      "UNKNOWN         43\n",
      "NO DAMAGE       34\n",
      "Name: vehicle_damage_extent, dtype: Int64\n",
      "\n",
      "\n",
      "TWELVE OCLOCK    414\n",
      "SIX OCLOCK       168\n",
      "ONE OCLOCK        98\n",
      "ELEVEN OCLOCK     85\n",
      "TEN OCLOCK        36\n",
      "TWO OCLOCK        36\n",
      "FIVE OCLOCK       27\n",
      "THREE OCLOCK      27\n",
      "SEVEN OCLOCK      23\n",
      "FOUR OCLOCK       23\n",
      "EIGHT OCLOCK      21\n",
      "NINE OCLOCK       19\n",
      "UNKNOWN           14\n",
      "UNDERSIDE          6\n",
      "NON-COLLISION      2\n",
      "ROOF TOP           1\n",
      "Name: vehicle_first_impact_location, dtype: Int64\n",
      "\n",
      "\n",
      "TWELVE OCLOCK    408\n",
      "SIX OCLOCK       167\n",
      "ONE OCLOCK       101\n",
      "ELEVEN OCLOCK     88\n",
      "TEN OCLOCK        35\n",
      "TWO OCLOCK        35\n",
      "THREE OCLOCK      29\n",
      "FOUR OCLOCK       25\n",
      "FIVE OCLOCK       24\n",
      "SEVEN OCLOCK      21\n",
      "EIGHT OCLOCK      21\n",
      "NINE OCLOCK       20\n",
      "UNKNOWN           16\n",
      "UNDERSIDE          6\n",
      "NON-COLLISION      2\n",
      "ROOF TOP           2\n",
      "Name: vehicle_second_impact_location, dtype: Int64\n",
      "\n",
      "\n",
      "PASSENGER CAR                                                696\n",
      "(SPORT) UTILITY VEHICLE                                       96\n",
      "PICKUP TRUCK                                                  40\n",
      "VAN                                                           29\n",
      "UNKNOWN                                                       26\n",
      "CARGO VAN/LIGHT TRUCK 2 AXLES (OVER 10,000LBS (4,536 KG))     14\n",
      "TRANSIT BUS                                                   14\n",
      "POLICE VEHICLE/NON EMERGENCY                                  14\n",
      "MOTORCYCLE                                                    13\n",
      "OTHER LIGHT TRUCKS (10,000LBS (4,536KG) OR LESS)              12\n",
      "POLICE VEHICLE/EMERGENCY                                      10\n",
      "OTHER                                                          8\n",
      "MEDIUM/HEAVY TRUCKS 3 AXLES (OVER 10,000LBS (4,536KG))         7\n",
      "STATION WAGON                                                  4\n",
      "TRUCK TRACTOR                                                  4\n",
      "AMBULANCE/EMERGENCY                                            4\n",
      "FIRE VEHICLE/EMERGENCY                                         3\n",
      "FIRE VEHICLE/NON EMERGENCY                                     2\n",
      "OTHER BUS                                                      1\n",
      "AUTOCYCLE                                                      1\n",
      "CROSS COUNTRY BUS                                              1\n",
      "LOW SPEED VEHICLE                                              1\n",
      "Name: vehicle_body_type, dtype: Int64\n",
      "\n",
      "\n",
      "MOVING CONSTANT SPEED      433\n",
      "SLOWING OR STOPPING        110\n",
      "MAKING LEFT TURN            99\n",
      "STOPPED IN TRAFFIC LANE     82\n",
      "ACCELERATING                66\n",
      "MAKING RIGHT TURN           38\n",
      "BACKING                     36\n",
      "CHANGING LANES              30\n",
      "STARTING FROM LANE          22\n",
      "PARKED                      15\n",
      "UNKNOWN                     13\n",
      "STARTING FROM PARKED        11\n",
      "PARKING                      9\n",
      "MAKING U TURN                9\n",
      "PASSING                      8\n",
      "ENTERING TRAFFIC LANE        6\n",
      "NEGOTIATING A CURVE          5\n",
      "OTHER                        4\n",
      "SKIDDING                     2\n",
      "RIGHT TURN ON RED            2\n",
      "Name: vehicle_movement, dtype: Int64\n",
      "\n",
      "\n",
      "35     305\n",
      "40     168\n",
      "30     153\n",
      "25     123\n",
      "45      75\n",
      "15      45\n",
      "50      37\n",
      "0       30\n",
      "5       22\n",
      "10      19\n",
      "55      18\n",
      "60       3\n",
      "20       2\n",
      "NaN      0\n",
      "Name: speed_limit, dtype: Int64\n",
      "\n",
      "\n",
      "Wednesday    180\n",
      "Friday       166\n",
      "Thursday     160\n",
      "Tuesday      151\n",
      "Saturday     132\n",
      "Monday       115\n",
      "Sunday        96\n",
      "Name: day_of_week, dtype: int64\n",
      "\n",
      "\n",
      "16    83\n",
      "15    80\n",
      "17    68\n",
      "19    62\n",
      "12    62\n",
      "10    61\n",
      "11    59\n",
      "13    59\n",
      "20    56\n",
      "14    54\n",
      "18    51\n",
      "9     48\n",
      "7     46\n",
      "8     38\n",
      "21    32\n",
      "6     28\n",
      "23    26\n",
      "0     23\n",
      "22    19\n",
      "5     17\n",
      "1     16\n",
      "4      5\n",
      "2      4\n",
      "3      3\n",
      "Name: hour_of_accident, dtype: int64\n",
      "\n",
      "\n"
     ]
    }
   ],
   "source": [
    "for col in df:\n",
    "    if not ((col == 'latitude') | (col == 'longitude') | (col == 'geolocation') | (col == 'road_name') | (col == 'crash_time') | (col == 'crash_date')):\n",
    "        print(df[col].value_counts(dropna=False))\n",
    "        print(\"\\n\")"
   ]
  },
  {
   "cell_type": "markdown",
   "metadata": {},
   "source": [
    "Now that we can see some of the unique values in our dataset, we can now pick and choose which variables we may want to look at and compare."
   ]
  },
  {
   "cell_type": "markdown",
   "metadata": {},
   "source": [
    "Lets start with some general questions to see if we can find anything we would want to explore more."
   ]
  },
  {
   "cell_type": "markdown",
   "metadata": {},
   "source": [
    "## What are drivers most distracted by?"
   ]
  },
  {
   "cell_type": "code",
   "execution_count": 27,
   "metadata": {},
   "outputs": [
    {
     "data": {
      "text/plain": [
       "NOT DISTRACTED                                       0.60\n",
       "UNKNOWN                                              0.17\n",
       "LOOKED BUT DID NOT SEE                               0.15\n",
       "OTHER DISTRACTION                                    0.03\n",
       "INATTENTIVE OR LOST IN THOUGHT                       0.03\n",
       "DISTRACTED BY OUTSIDE PERSON OBJECT OR EVENT         0.01\n",
       "TALKING OR LISTENING TO CELLULAR PHONE               0.00\n",
       "OTHER CELLULAR PHONE RELATED                         0.00\n",
       "OTHER ELECTRONIC DEVICE (NAVIGATIONAL PALM PILOT)    0.00\n",
       "ADJUSTING AUDIO AND OR CLIMATE CONTROLS              0.00\n",
       "BY OTHER OCCUPANTS                                   0.00\n",
       "NO DRIVER PRESENT                                    0.00\n",
       "SMOKING RELATED                                      0.00\n",
       "Name: driver_distracted_by, dtype: float64"
      ]
     },
     "execution_count": 27,
     "metadata": {},
     "output_type": "execute_result"
    }
   ],
   "source": [
    "df['driver_distracted_by'].value_counts(normalize=True).round(decimals=2)"
   ]
  },
  {
   "cell_type": "markdown",
   "metadata": {},
   "source": [
    "###### It looks like 60% of drivers are not distracted, 17% were not reported, 15% Looked but did not see.\n",
    "\n",
    "With the majority of drivers getting into accidents not being distracted or not being reported, we do don't need to look into distraction."
   ]
  },
  {
   "cell_type": "markdown",
   "metadata": {},
   "source": [
    "Lets start looking at the speed limit at which accidents occured at."
   ]
  },
  {
   "cell_type": "markdown",
   "metadata": {},
   "source": [
    "## What are the number of accidents that happen by speed limit?"
   ]
  },
  {
   "cell_type": "code",
   "execution_count": 28,
   "metadata": {},
   "outputs": [
    {
     "data": {
      "text/plain": [
       "Text(0, 0.5, 'Count')"
      ]
     },
     "execution_count": 28,
     "metadata": {},
     "output_type": "execute_result"
    },
    {
     "data": {
      "image/png": "[encoded data removed]",
      "text/plain": [
       "<Figure size 1440x720 with 1 Axes>"
      ]
     },
     "metadata": {},
     "output_type": "display_data"
    }
   ],
   "source": [
    "df.groupby(['speed_limit'])['speed_limit'].count().plot.bar()\n",
    "#pd.crosstab(df['speed_limit'], normalize=True).plot.bar()\n",
    "plt.title('Number of accidents by speedlimit')\n",
    "plt.xlabel('Speed Limit')\n",
    "plt.ylabel('Count')"
   ]
  },
  {
   "cell_type": "markdown",
   "metadata": {},
   "source": [
    "Same graph but now normalized"
   ]
  },
  {
   "cell_type": "code",
   "execution_count": 29,
   "metadata": {},
   "outputs": [
    {
     "data": {
      "text/plain": [
       "Text(0, 0.5, 'Percentage')"
      ]
     },
     "execution_count": 29,
     "metadata": {},
     "output_type": "execute_result"
    },
    {
     "data": {
      "image/png": "[encoded data removed]",
      "text/plain": [
       "<Figure size 1440x720 with 1 Axes>"
      ]
     },
     "metadata": {},
     "output_type": "display_data"
    }
   ],
   "source": [
    "x = df.groupby(['speed_limit'])['speed_limit'].count()\n",
    "x.div(df.groupby(['speed_limit'])['speed_limit'].count().sum()).plot.bar()\n",
    "\n",
    "plt.title('Number of accidents by speedlimit')\n",
    "plt.xlabel('Speed Limit')\n",
    "plt.ylabel('Percentage')"
   ]
  },
  {
   "cell_type": "markdown",
   "metadata": {},
   "source": [
    "From our exploration, the majority of accidents happen at the speed limit of 35 MPH. This is a really unique find and worth looking into. We will be exploring more into the kind of incidents that happen when the speed limit is 35 MPH."
   ]
  },
  {
   "cell_type": "markdown",
   "metadata": {},
   "source": [
    "##### What are the portion of accidents that happen when the speed limit is 35?"
   ]
  },
  {
   "cell_type": "code",
   "execution_count": 30,
   "metadata": {},
   "outputs": [
    {
     "data": {
      "text/plain": [
       "0.305"
      ]
     },
     "execution_count": 30,
     "metadata": {},
     "output_type": "execute_result"
    }
   ],
   "source": [
    "number_of_accidents_35 = df[df['speed_limit'] == 35].shape[0]\n",
    "number_of_total_accidents = df.shape[0]\n",
    "portion_of_accidents = number_of_accidents_35 / number_of_total_accidents\n",
    "portion_of_accidents\n",
    "# (df['speed_limit'] == 35).mean()"
   ]
  },
  {
   "cell_type": "markdown",
   "metadata": {},
   "source": [
    "Around 31% of the accidents in our dataset happen when the speed limit is 35 MPH."
   ]
  },
  {
   "cell_type": "markdown",
   "metadata": {},
   "source": [
    "## What are the differences between the type of  accident reported and the speed limit?"
   ]
  },
  {
   "cell_type": "code",
   "execution_count": 31,
   "metadata": {},
   "outputs": [
    {
     "data": {
      "text/plain": [
       "<matplotlib.legend.Legend at 0x1c663bb4308>"
      ]
     },
     "execution_count": 31,
     "metadata": {},
     "output_type": "execute_result"
    },
    {
     "data": {
      "image/png": "[encoded data removed]",
      "text/plain": [
       "<Figure size 1440x720 with 1 Axes>"
      ]
     },
     "metadata": {},
     "output_type": "display_data"
    }
   ],
   "source": [
    "pd.crosstab(df['speed_limit'],df['acrs_report_type']).plot.bar()\n",
    "plt.title('Percentage of accidents by speedlimit with the type of accident')\n",
    "plt.xlabel('Speed Limit')\n",
    "plt.ylabel('Count')\n",
    "plt.legend(title='Type of Crash Reported')"
   ]
  },
  {
   "cell_type": "markdown",
   "metadata": {},
   "source": [
    "It looks like a large portion of the accidents that happened when the speed limit is 35 MPH only involve property damage, but there are still a lot of incidents where there was an injury."
   ]
  },
  {
   "cell_type": "markdown",
   "metadata": {},
   "source": [
    "It is also worth noting that the only reported fatalities happened at 45 MPH and that there is almost no data at 20 MPH."
   ]
  },
  {
   "cell_type": "markdown",
   "metadata": {},
   "source": [
    "### What are the most common types of accidents at where the speed limit is 35 MPH?"
   ]
  },
  {
   "cell_type": "code",
   "execution_count": 32,
   "metadata": {},
   "outputs": [
    {
     "data": {
      "text/plain": [
       "Property Damage Crash    182\n",
       "Injury Crash             123\n",
       "Name: acrs_report_type, dtype: Int64"
      ]
     },
     "execution_count": 32,
     "metadata": {},
     "output_type": "execute_result"
    }
   ],
   "source": [
    "df['acrs_report_type'].where(df['speed_limit'] == 35).dropna().value_counts()"
   ]
  },
  {
   "cell_type": "markdown",
   "metadata": {},
   "source": [
    "It looks like there are actually a lot crashes that involve injuries when the speed limit is 35 MPH"
   ]
  },
  {
   "cell_type": "markdown",
   "metadata": {},
   "source": [
    "### What is the most common type of damage done each hour where the speed limit is 35?"
   ]
  },
  {
   "cell_type": "markdown",
   "metadata": {},
   "source": [
    "Lets try to explore more variables to compare when the speed limit is 35 MPH"
   ]
  },
  {
   "cell_type": "code",
   "execution_count": 33,
   "metadata": {},
   "outputs": [
    {
     "data": {
      "text/plain": [
       "Text(0, 0.5, 'Count')"
      ]
     },
     "execution_count": 33,
     "metadata": {},
     "output_type": "execute_result"
    },
    {
     "data": {
      "image/png": "[encoded data removed]",
      "text/plain": [
       "<Figure size 1440x986.4 with 1 Axes>"
      ]
     },
     "metadata": {},
     "output_type": "display_data"
    }
   ],
   "source": [
    "df_speedlimit_35 = df[df['speed_limit'] == 35].reset_index()\n",
    "plt.figure(figsize=(20,13.7))\n",
    "ax = sns.countplot(x='vehicle_damage_extent', hue='hour_of_accident', data=df_speedlimit_35)\n",
    "plt.legend(bbox_to_anchor=(1.05, 1), loc=2, borderaxespad=0., title=\"Hour of Accident\")\n",
    "plt.title('Types of Vehicle Damage Extent Per Hour')\n",
    "plt.xlabel('Vehicle Damage Extent')\n",
    "plt.ylabel('Count')"
   ]
  },
  {
   "cell_type": "markdown",
   "metadata": {},
   "source": [
    "It is interesting to note that it looks like most of the accidents that happened when the speed limit is 35 MPH were labeled as disabling. It is also worth noting that there is a spike in the graph at the hour of 16, which represents the time between 1600-1659 (4:00p.m. - 4:59p.m.)."
   ]
  },
  {
   "cell_type": "markdown",
   "metadata": {},
   "source": [
    "To try to avoid biasness of our observations, lets look at all the speed limits instea of just 35 MPH and see if any patterns emerge and to give us a perspective of the distribution of accidents."
   ]
  },
  {
   "cell_type": "markdown",
   "metadata": {},
   "source": [
    "### Damage extent for each hour for all speed limits"
   ]
  },
  {
   "cell_type": "code",
   "execution_count": 34,
   "metadata": {},
   "outputs": [
    {
     "data": {
      "text/plain": [
       "Text(0, 0.5, 'Count')"
      ]
     },
     "execution_count": 34,
     "metadata": {},
     "output_type": "execute_result"
    },
    {
     "data": {
      "image/png": "[encoded data removed]",
      "text/plain": [
       "<Figure size 1440x1036.8 with 1 Axes>"
      ]
     },
     "metadata": {},
     "output_type": "display_data"
    }
   ],
   "source": [
    "plt.figure(figsize=(20,14.4))\n",
    "sns.countplot(x='vehicle_damage_extent', hue='hour_of_accident', data=df)\n",
    "plt.legend(bbox_to_anchor=(1.05, 1), loc=2, borderaxespad=0., title=\"Hour of Accident\")\n",
    "plt.title('Types and Number of Accidents Per Hour')\n",
    "plt.xlabel('Vehicle Damage Type')\n",
    "plt.ylabel('Count')"
   ]
  },
  {
   "cell_type": "markdown",
   "metadata": {},
   "source": [
    "If we were to compare both the these colorful graphs, we would see that the overall shapes for the columns Disabling, Superficial, and Functional are very similar in their distributions. \n",
    "\n",
    "Because the graph itself is hard to read and get any useful information, we will no longer explore the hours in which the accidents occured."
   ]
  },
  {
   "cell_type": "markdown",
   "metadata": {},
   "source": [
    "Lets go back to looking at some correlations with the speed limits."
   ]
  },
  {
   "cell_type": "markdown",
   "metadata": {},
   "source": [
    "## Injury Severity for each Speed Limit "
   ]
  },
  {
   "cell_type": "code",
   "execution_count": 35,
   "metadata": {},
   "outputs": [
    {
     "data": {
      "text/plain": [
       "<matplotlib.legend.Legend at 0x1c664963e48>"
      ]
     },
     "execution_count": 35,
     "metadata": {},
     "output_type": "execute_result"
    },
    {
     "data": {
      "image/png": "[encoded data removed]",
      "text/plain": [
       "<Figure size 1440x720 with 1 Axes>"
      ]
     },
     "metadata": {},
     "output_type": "display_data"
    }
   ],
   "source": [
    "pd.crosstab(df['speed_limit'],df['injury_severity']).plot.bar()\n",
    "plt.title('Type of injury for each Speed Limit')\n",
    "plt.xlabel('Speed Limit')\n",
    "plt.ylabel('Count')\n",
    "plt.legend(title='Injury Serverity')"
   ]
  },
  {
   "cell_type": "markdown",
   "metadata": {},
   "source": [
    "It looks like the majority of the injury severities involved in crashes do not involve any apparent injuries"
   ]
  },
  {
   "cell_type": "markdown",
   "metadata": {},
   "source": [
    "### Of the people who were hurt in an accident involving a 35MPH crash, how severe were the injures?"
   ]
  },
  {
   "cell_type": "code",
   "execution_count": 36,
   "metadata": {},
   "outputs": [
    {
     "data": {
      "text/plain": [
       "Text(0.5, 1.0, 'Percentage of Injuries at 35 MPH')"
      ]
     },
     "execution_count": 36,
     "metadata": {},
     "output_type": "execute_result"
    },
    {
     "data": {
      "image/png": "[encoded data removed]",
      "text/plain": [
       "<Figure size 720x360 with 1 Axes>"
      ]
     },
     "metadata": {},
     "output_type": "display_data"
    }
   ],
   "source": [
    "# Filter by people who were injured\n",
    "temp_df = df[df['injury_severity'] != 'NO APPARENT INJURY']\n",
    "# Filter by the speed limit of 35\n",
    "temp_df = temp_df[temp_df['speed_limit'] == 35]\n",
    "pd.crosstab(temp_df['speed_limit'],temp_df['injury_severity'], normalize=True).plot.bar(figsize=(10,5))\n",
    "plt.legend(bbox_to_anchor=(1.05, 1), loc=2, borderaxespad=0., title=\"Type of Injury\")\n",
    "plt.xlabel('Speed Limit')\n",
    "plt.ylabel('Percentage')\n",
    "plt.title('Percentage of Injuries at 35 MPH')"
   ]
  },
  {
   "cell_type": "markdown",
   "metadata": {},
   "source": [
    "It looks like of the people who were injured in a at 35 MPH, around 64% of them were possibly injured, around 33% has a minor injury, and around 3% had a major injury"
   ]
  },
  {
   "cell_type": "code",
   "execution_count": 37,
   "metadata": {},
   "outputs": [
    {
     "data": {
      "text/plain": [
       "POSSIBLE INJURY             64.0\n",
       "SUSPECTED MINOR INJURY      33.0\n",
       "SUSPECTED SERIOUS INJURY     3.0\n",
       "Name: injury_severity, dtype: float64"
      ]
     },
     "execution_count": 37,
     "metadata": {},
     "output_type": "execute_result"
    }
   ],
   "source": [
    "temp_df['injury_severity'].value_counts(normalize=True).round(decimals=2) * 100"
   ]
  },
  {
   "cell_type": "markdown",
   "metadata": {},
   "source": [
    "Lets finally loook at which day of the week do most accidents happen on."
   ]
  },
  {
   "cell_type": "markdown",
   "metadata": {},
   "source": [
    "## What day does most of the accidents happen on?"
   ]
  },
  {
   "cell_type": "code",
   "execution_count": 38,
   "metadata": {},
   "outputs": [
    {
     "data": {
      "text/plain": [
       "Text(0, 0.5, 'Count')"
      ]
     },
     "execution_count": 38,
     "metadata": {},
     "output_type": "execute_result"
    },
    {
     "data": {
      "image/png": "[encoded data removed]",
      "text/plain": [
       "<Figure size 1440x720 with 1 Axes>"
      ]
     },
     "metadata": {},
     "output_type": "display_data"
    }
   ],
   "source": [
    "df['day_of_week'].value_counts().plot.bar()\n",
    "plt.title('Accidents by day of the week')\n",
    "plt.ylabel('Count')"
   ]
  },
  {
   "cell_type": "markdown",
   "metadata": {},
   "source": [
    "We can see that most of the accidents happen on Wednesday"
   ]
  },
  {
   "cell_type": "markdown",
   "metadata": {},
   "source": [
    "Now that we have explored many variables and correlations revolving around the speed limit of 35 MPH, lets try to find some conditional probabilities inspired by the data we have just observed."
   ]
  },
  {
   "cell_type": "markdown",
   "metadata": {},
   "source": [
    "# What is the probability of being injured if you are involved in an accident, given the speed limit is 35MPH and its Wednesday in Montgomery County?\n",
    "\n",
    "For the given problem. We can use Bayes Rule and conditional probability to help us find our answer.\n",
    "\n",
    "##### Bayes Rule = P(A|B) = P(A & B)/P(B)\n",
    "\n",
    "We will define our variable A as the Probability of being injured\n",
    "\n",
    "We will define our variable B as the Probability of the speed limit of 35MPH & Wednesday\n",
    "\n",
    "If we were to substitue our proportions, we would get a formula of:\n",
    "\n",
    "##### P(Injured | Wednesday & 35 MPH) = P(Injured & Wednesday & 35 MPH) / P(Wednesday & 35 MPH)\n",
    "##### P(Injured | Wednesday & 35 MPH) = p_injured_35_mph_wednesday / p_35_mph_wednesday\n",
    "\n",
    "*We will also assume an injury is counted as anything that is not reported as 'NO APPARENT INJURY' in the injury_severity column of our dataset"
   ]
  },
  {
   "cell_type": "code",
   "execution_count": 39,
   "metadata": {},
   "outputs": [
    {
     "name": "stdout",
     "output_type": "stream",
     "text": [
      "19.0\n"
     ]
    }
   ],
   "source": [
    "#P(Injured & Wednesday & 35 MPH)\n",
    "p_injured_35_mph_wednesday = (((df['injury_severity'] != 'NO APPARENT INJURY') & (df['speed_limit'] == 35)) & (df['day_of_week'] == 'Wednesday')).mean()\n",
    "# P(Wednesday & 35 MPH)\n",
    "p_35_mph_wednesday = ((df['speed_limit'] == 35) & (df['day_of_week'] == 'Wednesday')).mean()\n",
    "#P(Injured | Wednesday & 35 MPH) = P(Injured & Wednesday & 35 MPH) / P(Wednesday & 35 MPH)\n",
    "p_injured_given_35_mph_wednesday = p_injured_35_mph_wednesday / p_35_mph_wednesday\n",
    "# Round the answer to 2 decimals\n",
    "print('{}'.format(p_injured_given_35_mph_wednesday.round(decimals=2) * 100))"
   ]
  },
  {
   "cell_type": "markdown",
   "metadata": {},
   "source": [
    "From our calculations, we conclude that you have a 19% chance of being injured if you are involved in an accident, given the speed limit is 35MPH and its Wednesday in Montgomery County"
   ]
  },
  {
   "cell_type": "markdown",
   "metadata": {},
   "source": [
    "# Conclusion\n",
    "\n",
    "From the data that was gathered and presented, we learned that a large number of accidents occur at 35mph, during the daytime between 4pm-5pm and mostly on Wednesdays. Although, the crashes at that speed were not fatal, there was a significant amount of accidents that involved property damage. The majority of the crashes however did not involve any apparent injuries. We also decided to combine some of the different variables we explored into a conditional probability problem. The result of our conditional probability was shocking to find that you had a 19% of being injured, while being in an accident on Wednesday when the speed limit is 35 MPH. \n",
    "\n",
    "Some of the issues we faced in our exploration of this dataset were:\n",
    "1. Trying to figure out which columns we would want to drop and not look into because they either had a lot of missing data or the amount of unique values within the columns that would make it hard to find anything that stood out.\n",
    "2. Experimenting with all the different variables to find something that was unique. \n",
    "3. Trying to decide what graphs to use and to format our graphs to present the data in a way that showed a useful result. "
   ]
  }
 ],
 "metadata": {
  "kernelspec": {
   "display_name": "Python 3",
   "language": "python",
   "name": "python3"
  },
  "language_info": {
   "codemirror_mode": {
    "name": "ipython",
    "version": 3
   },
   "file_extension": ".py",
   "mimetype": "text/x-python",
   "name": "python",
   "nbconvert_exporter": "python",
   "pygments_lexer": "ipython3",
   "version": "3.7.9"
  }
 },
 "nbformat": 4,
 "nbformat_minor": 4
}
